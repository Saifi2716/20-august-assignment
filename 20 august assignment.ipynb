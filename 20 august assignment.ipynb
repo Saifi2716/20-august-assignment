{
 "cells": [
  {
   "cell_type": "markdown",
   "id": "ddf1e04c-3112-47a9-bee1-9984f7aa23ea",
   "metadata": {},
   "source": [
    "## 20 august assignment\n",
    "\n"
   ]
  },
  {
   "cell_type": "code",
   "execution_count": null,
   "id": "98742081-d6d8-4f90-974c-65054f3e563a",
   "metadata": {},
   "outputs": [],
   "source": [
    "Q.1 Write a program to reverse a string."
   ]
  },
  {
   "cell_type": "code",
   "execution_count": 1,
   "id": "bc3b78b6-4f08-4c6e-90f2-54c240488c28",
   "metadata": {},
   "outputs": [],
   "source": [
    "s='saifi'"
   ]
  },
  {
   "cell_type": "code",
   "execution_count": 2,
   "id": "f89db2ca-7668-4625-ab57-540cdd0b9f57",
   "metadata": {},
   "outputs": [
    {
     "data": {
      "text/plain": [
       "'ifias'"
      ]
     },
     "execution_count": 2,
     "metadata": {},
     "output_type": "execute_result"
    }
   ],
   "source": [
    "s[::-1]"
   ]
  },
  {
   "cell_type": "code",
   "execution_count": null,
   "id": "c9923904-fade-4786-b634-1d54b6192616",
   "metadata": {},
   "outputs": [],
   "source": [
    "Q.2 Check if a string is a palindrome."
   ]
  },
  {
   "cell_type": "code",
   "execution_count": 8,
   "id": "38451266-546d-4dda-a228-c12591215553",
   "metadata": {},
   "outputs": [
    {
     "ename": "NameError",
     "evalue": "name 'is_palindrome' is not defined",
     "output_type": "error",
     "traceback": [
      "\u001b[0;31m---------------------------------------------------------------------------\u001b[0m",
      "\u001b[0;31mNameError\u001b[0m                                 Traceback (most recent call last)",
      "Cell \u001b[0;32mIn[8], line 6\u001b[0m\n\u001b[1;32m      4\u001b[0m     s \u001b[38;5;241m=\u001b[39m \u001b[38;5;124m'\u001b[39m\u001b[38;5;124m'\u001b[39m\u001b[38;5;241m.\u001b[39mjoin(e \u001b[38;5;28;01mfor\u001b[39;00m e \u001b[38;5;129;01min\u001b[39;00m s \u001b[38;5;28;01mif\u001b[39;00m e\u001b[38;5;241m.\u001b[39misalnum())\n\u001b[1;32m      5\u001b[0m     \u001b[38;5;28;01mreturn\u001b[39;00m s \u001b[38;5;241m==\u001b[39m s[::\u001b[38;5;241m-\u001b[39m\u001b[38;5;241m1\u001b[39m]\n\u001b[0;32m----> 6\u001b[0m \u001b[38;5;28mprint\u001b[39m(\u001b[43mis_palindrome\u001b[49m(\u001b[38;5;124m\"\u001b[39m\u001b[38;5;124mracecar\u001b[39m\u001b[38;5;124m\"\u001b[39m))\n\u001b[1;32m      7\u001b[0m \u001b[38;5;28mprint\u001b[39m(is_palindrome(\u001b[38;5;124m\"\u001b[39m\u001b[38;5;124mhello\u001b[39m\u001b[38;5;124m\"\u001b[39m))\n\u001b[1;32m      8\u001b[0m \u001b[38;5;28mprint\u001b[39m(is_palindrome(\u001b[38;5;124m\"\u001b[39m\u001b[38;5;124mA man, a plan, a canal, Panama\u001b[39m\u001b[38;5;124m\"\u001b[39m))\n",
      "\u001b[0;31mNameError\u001b[0m: name 'is_palindrome' is not defined"
     ]
    }
   ],
   "source": [
    "def is_paldindrome(s):\n",
    "    \n",
    "    s = s.lower()\n",
    "    s = ''.join(e for e in s if e.isalnum())\n",
    "    return s == s[::-1]\n",
    "print(is_palindrome(\"racecar\"))\n",
    "print(is_palindrome(\"hello\"))\n",
    "print(is_palindrome(\"A man, a plan, a canal, Panama\"))"
   ]
  },
  {
   "cell_type": "code",
   "execution_count": null,
   "id": "0d6da013-da91-4fec-a2a2-f5bbe6b6fbcf",
   "metadata": {},
   "outputs": [],
   "source": [
    "Q.3 Convert a string to uppercase."
   ]
  },
  {
   "cell_type": "code",
   "execution_count": 13,
   "id": "42dcffb9-be40-4321-8c8c-0c9867db76e3",
   "metadata": {},
   "outputs": [],
   "source": [
    "s1=('pwskills')"
   ]
  },
  {
   "cell_type": "code",
   "execution_count": 14,
   "id": "5d4aabab-770a-4600-9ffb-b087a8df1b64",
   "metadata": {},
   "outputs": [
    {
     "data": {
      "text/plain": [
       "'PWSKILLS'"
      ]
     },
     "execution_count": 14,
     "metadata": {},
     "output_type": "execute_result"
    }
   ],
   "source": [
    "s1.upper()"
   ]
  },
  {
   "cell_type": "code",
   "execution_count": null,
   "id": "2aae7dfe-0cd8-4d25-95e2-143f41c4f2c6",
   "metadata": {},
   "outputs": [],
   "source": [
    "Q.4 Convert a string to lowercase."
   ]
  },
  {
   "cell_type": "code",
   "execution_count": 15,
   "id": "29ef65cd-b266-4171-b275-5244569b4a66",
   "metadata": {},
   "outputs": [
    {
     "data": {
      "text/plain": [
       "'pwskills'"
      ]
     },
     "execution_count": 15,
     "metadata": {},
     "output_type": "execute_result"
    }
   ],
   "source": [
    "s1.lower()"
   ]
  },
  {
   "cell_type": "code",
   "execution_count": null,
   "id": "8a48b717-b04e-4f51-929d-1057e5d4b5e6",
   "metadata": {},
   "outputs": [],
   "source": [
    "Q.5 Count the number of vowels in a string."
   ]
  },
  {
   "cell_type": "code",
   "execution_count": 24,
   "id": "3d6f4826-86c1-43e4-9a67-41f764f7ad92",
   "metadata": {},
   "outputs": [
    {
     "ename": "SyntaxError",
     "evalue": "invalid syntax (422592176.py, line 6)",
     "output_type": "error",
     "traceback": [
      "\u001b[0;36m  Cell \u001b[0;32mIn[24], line 6\u001b[0;36m\u001b[0m\n\u001b[0;31m    count + =1\u001b[0m\n\u001b[0m            ^\u001b[0m\n\u001b[0;31mSyntaxError\u001b[0m\u001b[0;31m:\u001b[0m invalid syntax\n"
     ]
    }
   ],
   "source": [
    " def count_vowels (input_string):\n",
    "    vowels='aeiouAEIOU'\n",
    "    count = 0\n",
    "    for char in input_string:\n",
    "        if char in vowels:\n",
    "            count + =1\n",
    "            return count\n",
    "# test the function\n",
    "input_string = 'he_ _ _llo, world'\n",
    "print (\"number of vowels in the string\": \n",
    "count_vowels(input_string))\n",
    "        "
   ]
  },
  {
   "cell_type": "code",
   "execution_count": null,
   "id": "65e4be32-dbde-4d0d-8207-3ebf3ae40a43",
   "metadata": {},
   "outputs": [],
   "source": [
    "Q.6 Count the number of consonants in a string."
   ]
  },
  {
   "cell_type": "code",
   "execution_count": 26,
   "id": "6b009eec-b291-4296-b1c1-9c311a334b40",
   "metadata": {},
   "outputs": [
    {
     "name": "stdout",
     "output_type": "stream",
     "text": [
      "7\n"
     ]
    }
   ],
   "source": [
    "def count_consonants(s):\n",
    "    consonants = \"bcdfghjklmnpqrstvwxyzBCDFGHJKLMNPQRSTVWXYZ\"\n",
    "    count = 0\n",
    "    for char in s:\n",
    "        if char in consonants:\n",
    "            count += 1\n",
    "    return count\n",
    "\n",
    "# Example usage\n",
    "string = \"Hello, World!\"\n",
    "print(count_consonants(string))  # Output: 8\n"
   ]
  },
  {
   "cell_type": "code",
   "execution_count": null,
   "id": "1e90907b-f24b-41c2-8ce2-bf33083adf2d",
   "metadata": {},
   "outputs": [],
   "source": [
    "Q.7. Remove all whitespaces from a string."
   ]
  },
  {
   "cell_type": "code",
   "execution_count": 27,
   "id": "2409ec43-b205-4381-a6cd-31aae50ae0ae",
   "metadata": {},
   "outputs": [
    {
     "name": "stdout",
     "output_type": "stream",
     "text": [
      "Hello,World!\n"
     ]
    }
   ],
   "source": [
    "import re\n",
    "\n",
    "def remove_whitespace_regex(s):\n",
    "    return re.sub(r\"\\s+\", \"\", s)\n",
    "\n",
    "# Example usage\n",
    "string = \"Hello,  World!\\t\\n\"\n",
    "print(remove_whitespace_regex(string))  # Output: \"Hello,World!\"\n"
   ]
  },
  {
   "cell_type": "code",
   "execution_count": null,
   "id": "0316d7c2-7a10-4eb1-8865-059c1c78581e",
   "metadata": {},
   "outputs": [],
   "source": [
    "Q.8 Find the length of a string without using the `len()` function."
   ]
  },
  {
   "cell_type": "code",
   "execution_count": 28,
   "id": "901e2231-d8df-4146-8b8f-a10c56555388",
   "metadata": {},
   "outputs": [
    {
     "name": "stdout",
     "output_type": "stream",
     "text": [
      "13\n"
     ]
    }
   ],
   "source": [
    "def string_length(s):\n",
    "    count = 0\n",
    "    for char in s:\n",
    "        count += 1\n",
    "    return count\n",
    "\n",
    "# Example usage\n",
    "string = \"Hello, World!\"\n",
    "print(string_length(string))  # Output: 13\n"
   ]
  },
  {
   "cell_type": "code",
   "execution_count": null,
   "id": "062e58e0-d61c-4c19-a25f-1945240547d9",
   "metadata": {},
   "outputs": [],
   "source": [
    "Q.9 Check if a string contains a specific word."
   ]
  },
  {
   "cell_type": "code",
   "execution_count": 29,
   "id": "88985272-168d-483d-bc31-758b513396bf",
   "metadata": {},
   "outputs": [
    {
     "name": "stdout",
     "output_type": "stream",
     "text": [
      "The string contains the word 'World'.\n"
     ]
    }
   ],
   "source": [
    "def contains_word(s, word):\n",
    "    return word in s\n",
    "\n",
    "# Example usage\n",
    "string = \"Hello, World!\"\n",
    "word_to_check = \"World\"\n",
    "if contains_word(string, word_to_check):\n",
    "    print(f\"The string contains the word '{word_to_check}'.\")\n",
    "else:\n",
    "    print(f\"The string does not contain the word '{word_to_check}'.\")\n"
   ]
  },
  {
   "cell_type": "code",
   "execution_count": null,
   "id": "8a21b962-dba9-4093-807b-96225db14fa3",
   "metadata": {},
   "outputs": [],
   "source": [
    "Q.10. Replace a word in a string with another word."
   ]
  },
  {
   "cell_type": "code",
   "execution_count": 30,
   "id": "e47744d0-bb0b-44c1-be71-631faca7b7d1",
   "metadata": {},
   "outputs": [
    {
     "name": "stdout",
     "output_type": "stream",
     "text": [
      "Hello, Universe!\n"
     ]
    }
   ],
   "source": [
    "def replace_word(s, old_word, new_word):\n",
    "    return s.replace(old_word, new_word)\n",
    "\n",
    "# Example usage\n",
    "string = \"Hello, World!\"\n",
    "old_word = \"World\"\n",
    "new_word = \"Universe\"\n",
    "new_string = replace_word(string, old_word, new_word)\n",
    "print(new_string)  # Output: \"Hello, Universe!\"\n"
   ]
  },
  {
   "cell_type": "code",
   "execution_count": null,
   "id": "aed2105f-c3c8-478c-8c0c-0da3415302ad",
   "metadata": {},
   "outputs": [],
   "source": [
    "Q.11. Count the occurrences of a word in a string."
   ]
  },
  {
   "cell_type": "code",
   "execution_count": 31,
   "id": "5dd1319b-ca82-415c-b732-763b36380c61",
   "metadata": {},
   "outputs": [
    {
     "name": "stdout",
     "output_type": "stream",
     "text": [
      "0\n"
     ]
    }
   ],
   "source": [
    "def count_word_occurrences(s, word):\n",
    "    words = s.split()\n",
    "    count = 0\n",
    "    for w in words:\n",
    "        if w == word:\n",
    "            count += 1\n",
    "    return count\n",
    "\n",
    "# Example usage\n",
    "string = \"Hello, World! Hello, Universe! Hello, World!\"\n",
    "word_to_count = \"Hello\"\n",
    "print(count_word_occurrences(string, word_to_count))  # Output: 3\n"
   ]
  },
  {
   "cell_type": "code",
   "execution_count": null,
   "id": "5a3bbce4-0c1c-48d7-b00a-ca7775905ba6",
   "metadata": {},
   "outputs": [],
   "source": [
    "Q.12. Find the first occurrence of a word in a string."
   ]
  },
  {
   "cell_type": "code",
   "execution_count": 32,
   "id": "8e34de17-8993-4954-aef3-b1378a9f8526",
   "metadata": {},
   "outputs": [
    {
     "name": "stdout",
     "output_type": "stream",
     "text": [
      "-1\n"
     ]
    }
   ],
   "source": [
    "def find_first_occurrence(s, word):\n",
    "    words = s.split()\n",
    "    for i, w in enumerate(words):\n",
    "        if w == word:\n",
    "            return i\n",
    "    return -1  # Return -1 if the word is not found\n",
    "\n",
    "# Example usage\n",
    "string = \"Hello, World! Hello, Universe! Hello, World!\"\n",
    "word_to_find = \"Hello\"\n",
    "print(find_first_occurrence(string, word_to_find))  # Output: 0\n"
   ]
  },
  {
   "cell_type": "code",
   "execution_count": null,
   "id": "5cdf9213-1ac2-4365-96e1-e6f71154de5e",
   "metadata": {},
   "outputs": [],
   "source": [
    "Q.13. Find the last occurrence of a word in a string."
   ]
  },
  {
   "cell_type": "code",
   "execution_count": 33,
   "id": "3dc3047d-eea6-4547-a49d-7e3311be47e5",
   "metadata": {},
   "outputs": [
    {
     "name": "stdout",
     "output_type": "stream",
     "text": [
      "-1\n"
     ]
    }
   ],
   "source": [
    "def find_last_occurrence(s, word):\n",
    "    words = s.split()\n",
    "    for i in range(len(words) - 1, -1, -1):\n",
    "        if words[i] == word:\n",
    "            return i\n",
    "    return -1  # Return -1 if the word is not found\n",
    "\n",
    "# Example usage\n",
    "string = \"Hello, World! Hello, Universe! Hello, World!\"\n",
    "word_to_find = \"Hello\"\n",
    "print(find_last_occurrence(string, word_to_find))  # Output: 4\n"
   ]
  },
  {
   "cell_type": "code",
   "execution_count": null,
   "id": "e46feb17-2a0d-4d13-9084-58f6fbd5c0d1",
   "metadata": {},
   "outputs": [],
   "source": [
    "14. Split a string into a list of words."
   ]
  },
  {
   "cell_type": "code",
   "execution_count": 41,
   "id": "68acdb80-f54d-464e-b28e-615a5cfcb5ce",
   "metadata": {},
   "outputs": [
    {
     "name": "stdout",
     "output_type": "stream",
     "text": [
      "['Hello,', 'World!', 'Hello,', 'Universe!']\n"
     ]
    }
   ],
   "source": [
    "def split_into_words(s):\n",
    "    return s.split()\n",
    "\n",
    "# Example usage\n",
    "string = \"Hello, World! Hello, Universe!\"\n",
    "words = split_into_words(string)\n",
    "print(words)  # Output: ['Hello,', 'World!', 'Hello,', 'Universe!']\n"
   ]
  },
  {
   "cell_type": "code",
   "execution_count": null,
   "id": "152dae30-a4ba-4d0f-a7d7-f5b6c0dd5fbd",
   "metadata": {},
   "outputs": [],
   "source": [
    "Q.15 Join a list of words into a string."
   ]
  },
  {
   "cell_type": "code",
   "execution_count": 42,
   "id": "0ad4f126-355d-44a1-903d-9df003169826",
   "metadata": {},
   "outputs": [
    {
     "name": "stdout",
     "output_type": "stream",
     "text": [
      "Hello, World! Hello, Universe!\n"
     ]
    }
   ],
   "source": [
    "def join_words(words):\n",
    "    return ' '.join(words)\n",
    "\n",
    "# Example usage\n",
    "word_list = ['Hello,', 'World!', 'Hello,', 'Universe!']\n",
    "string = join_words(word_list)\n",
    "print(string)  # Output: 'Hello, World! Hello, Universe!'\n"
   ]
  },
  {
   "cell_type": "code",
   "execution_count": null,
   "id": "486adaae-1e9d-44e8-9c83-e732ae074745",
   "metadata": {},
   "outputs": [],
   "source": [
    "16. Convert a string where words are separated by spaces to one where words\n",
    "are separated by underscores."
   ]
  },
  {
   "cell_type": "code",
   "execution_count": 43,
   "id": "7951abf2-208b-4150-9cfc-ed89008d50d9",
   "metadata": {},
   "outputs": [
    {
     "name": "stdout",
     "output_type": "stream",
     "text": [
      "Hello,_World!_Hello,_Universe!\n"
     ]
    }
   ],
   "source": [
    "def convert_spaces_to_underscores(s):\n",
    "    return s.replace(' ', '_')\n",
    "\n",
    "# Example usage\n",
    "string = \"Hello, World! Hello, Universe!\"\n",
    "converted_string = convert_spaces_to_underscores(string)\n",
    "print(converted_string)  # Output: \"Hello,_World!_Hello,_Universe!\"\n"
   ]
  },
  {
   "cell_type": "code",
   "execution_count": null,
   "id": "48517cf2-9591-4f6c-af3a-e2e114248e09",
   "metadata": {},
   "outputs": [],
   "source": [
    "17. Check if a string starts with a specific word or phrase."
   ]
  },
  {
   "cell_type": "code",
   "execution_count": 44,
   "id": "17d7ee1f-fa87-4028-8de9-e97538f26cc2",
   "metadata": {},
   "outputs": [
    {
     "name": "stdout",
     "output_type": "stream",
     "text": [
      "The string starts with 'Hello'.\n"
     ]
    }
   ],
   "source": [
    "def starts_with_word(s, word):\n",
    "    return s.startswith(word)\n",
    "\n",
    "# Example usage\n",
    "string = \"Hello, World!\"\n",
    "word_to_check = \"Hello\"\n",
    "if starts_with_word(string, word_to_check):\n",
    "    print(f\"The string starts with '{word_to_check}'.\")\n",
    "else:\n",
    "    print(f\"The string does not start with '{word_to_check}'.\")\n"
   ]
  },
  {
   "cell_type": "code",
   "execution_count": null,
   "id": "38116759-89f0-47ab-a615-a786b40ab88e",
   "metadata": {},
   "outputs": [],
   "source": [
    "18. Check if a string ends with a specific word or phrase."
   ]
  },
  {
   "cell_type": "code",
   "execution_count": 45,
   "id": "b9069cff-8683-4f63-b744-678c38afcf3d",
   "metadata": {},
   "outputs": [
    {
     "name": "stdout",
     "output_type": "stream",
     "text": [
      "The string ends with 'World!'.\n"
     ]
    }
   ],
   "source": [
    "def ends_with_word(s, word):\n",
    "    return s.endswith(word)\n",
    "\n",
    "# Example usage\n",
    "string = \"Hello, World!\"\n",
    "word_to_check = \"World!\"\n",
    "if ends_with_word(string, word_to_check):\n",
    "    print(f\"The string ends with '{word_to_check}'.\")\n",
    "else:\n",
    "    print(f\"The string does not end with '{word_to_check}'.\")\n"
   ]
  },
  {
   "cell_type": "code",
   "execution_count": null,
   "id": "e778fa0e-247a-46cc-b495-0ac26ff8f8ba",
   "metadata": {},
   "outputs": [],
   "source": [
    "19. Convert a string to title case (e.g., \"hello world\" to \"Hello World\")."
   ]
  },
  {
   "cell_type": "code",
   "execution_count": 46,
   "id": "fdb3b3f1-52df-46ac-923e-89628f00afa5",
   "metadata": {},
   "outputs": [
    {
     "name": "stdout",
     "output_type": "stream",
     "text": [
      "Hello World\n"
     ]
    }
   ],
   "source": [
    "def convert_to_title_case(s):\n",
    "    return s.title()\n",
    "\n",
    "# Example usage\n",
    "string = \"hello world\"\n",
    "title_case_string = convert_to_title_case(string)\n",
    "print(title_case_string)  # Output: \"Hello World\"\n"
   ]
  },
  {
   "cell_type": "code",
   "execution_count": null,
   "id": "59b57ee7-3674-4eb6-af42-e2aebe992952",
   "metadata": {},
   "outputs": [],
   "source": [
    "20. Find the longest word in a string."
   ]
  },
  {
   "cell_type": "code",
   "execution_count": 49,
   "id": "68745783-0298-45bf-90c7-25aa6649dbc6",
   "metadata": {},
   "outputs": [
    {
     "name": "stdout",
     "output_type": "stream",
     "text": [
      "Welcome\n"
     ]
    }
   ],
   "source": [
    "def find_longest_word(s):\n",
    "    words = s.split()\n",
    "    longest_word = \"\"\n",
    "    for word in words:\n",
    "        if len(word) > len(longest_word):\n",
    "            longest_word = word\n",
    "    return longest_word\n",
    "\n",
    "# Example usage\n",
    "string = \"Hello, World! Welcome to bihar.\"\n",
    "longest_word = find_longest_word(string)\n",
    "print(longest_word)  # Output: \"Welcome\"\n"
   ]
  },
  {
   "cell_type": "code",
   "execution_count": null,
   "id": "7990c6b5-ad89-4fe5-ac58-3059ac75873a",
   "metadata": {},
   "outputs": [],
   "source": [
    "21. Find the shortest word in a string."
   ]
  },
  {
   "cell_type": "code",
   "execution_count": 50,
   "id": "99d6fca4-b558-4ea5-91a5-184add8ab790",
   "metadata": {},
   "outputs": [
    {
     "name": "stdout",
     "output_type": "stream",
     "text": [
      "to\n"
     ]
    }
   ],
   "source": [
    "def find_shortest_word(s):\n",
    "    words = s.split()\n",
    "    shortest_word = None\n",
    "    for word in words:\n",
    "        if shortest_word is None or len(word) < len(shortest_word):\n",
    "            shortest_word = word\n",
    "    return shortest_word\n",
    "\n",
    "# Example usage\n",
    "string = \"Hello, World! Welcome to ChatGPT.\"\n",
    "shortest_word = find_shortest_word(string)\n",
    "print(shortest_word)  # Output: \"to\"\n"
   ]
  },
  {
   "cell_type": "code",
   "execution_count": null,
   "id": "649c278d-6d11-42bf-9241-0eff5ff81e17",
   "metadata": {},
   "outputs": [],
   "source": [
    "22. Reverse the order of words in a string."
   ]
  },
  {
   "cell_type": "code",
   "execution_count": 51,
   "id": "b8345825-3342-4767-9d6d-f9158d60c984",
   "metadata": {},
   "outputs": [
    {
     "name": "stdout",
     "output_type": "stream",
     "text": [
      "world Hello\n"
     ]
    }
   ],
   "source": [
    "def reverse_words(input_string):\n",
    "    # Split the input string into words\n",
    "    words = input_string.split()\n",
    "    \n",
    "    # Reverse the order of words\n",
    "    words.reverse()\n",
    "    \n",
    "    # Join the words back together\n",
    "    reversed_string = ' '.join(words)\n",
    "    \n",
    "    return reversed_string\n",
    "\n",
    "# Test the function\n",
    "input_string = \"Hello world\"\n",
    "reversed_string = reverse_words(input_string)\n",
    "print(reversed_string)  # Output: \"world Hello\"\n"
   ]
  },
  {
   "cell_type": "code",
   "execution_count": null,
   "id": "fbc2a0cd-615b-4513-a16f-8d413ba72705",
   "metadata": {},
   "outputs": [],
   "source": [
    "23. Check if a string is alphanumeric."
   ]
  },
  {
   "cell_type": "code",
   "execution_count": 52,
   "id": "18efb955-63de-4612-9298-597a22135a8d",
   "metadata": {},
   "outputs": [
    {
     "name": "stdout",
     "output_type": "stream",
     "text": [
      "True\n",
      "False\n",
      "False\n"
     ]
    }
   ],
   "source": [
    "def is_alphanumeric(input_string):\n",
    "    return input_string.isalnum()\n",
    "\n",
    "# Test the function\n",
    "input_string = \"Hello123\"\n",
    "print(is_alphanumeric(input_string))  # Output: True\n",
    "\n",
    "input_string = \"Hello 123\"\n",
    "print(is_alphanumeric(input_string))  # Output: False\n",
    "\n",
    "input_string = \"\"\n",
    "print(is_alphanumeric(input_string))  # Output: False\n"
   ]
  },
  {
   "cell_type": "code",
   "execution_count": null,
   "id": "5d0c42e1-9aa0-44e2-b67c-1e658a93a7a0",
   "metadata": {},
   "outputs": [],
   "source": [
    "24. Extract all digits from a string."
   ]
  },
  {
   "cell_type": "code",
   "execution_count": 53,
   "id": "f826e6f9-cba9-4766-9674-81b0a281d6ff",
   "metadata": {},
   "outputs": [
    {
     "name": "stdout",
     "output_type": "stream",
     "text": [
      "123456\n"
     ]
    }
   ],
   "source": [
    "import re\n",
    "\n",
    "def extract_digits(input_string):\n",
    "    # Use regular expression to find all digits in the string\n",
    "    digits = re.findall(r'\\d', input_string)\n",
    "    \n",
    "    # Join the digits back together to form a string\n",
    "    extracted_digits = ''.join(digits)\n",
    "    \n",
    "    return extracted_digits\n",
    "\n",
    "# Test the function\n",
    "input_string = \"Hello 123 World 456\"\n",
    "extracted_digits = extract_digits(input_string)\n",
    "print(extracted_digits)  # Output: \"123456\"\n"
   ]
  },
  {
   "cell_type": "code",
   "execution_count": null,
   "id": "3caea05f-5fd6-4e8f-97bb-f63daa464924",
   "metadata": {},
   "outputs": [],
   "source": [
    "25. Extract all alphabets from a string."
   ]
  },
  {
   "cell_type": "code",
   "execution_count": 55,
   "id": "a76790e8-0707-4772-9cc5-3d4f70bda85b",
   "metadata": {},
   "outputs": [
    {
     "name": "stdout",
     "output_type": "stream",
     "text": [
      "HelloWorld\n"
     ]
    }
   ],
   "source": [
    "import re\n",
    "\n",
    "def extract_alphabets(input_string):\n",
    "    # Use regular expression to find all alphabetic characters in the string\n",
    "    alphabets = re.findall(r'[a-zA-Z]', input_string)\n",
    "    \n",
    "    # Join the alphabetic characters back together to form a string\n",
    "    extracted_alphabets = ''.join(alphabets)\n",
    "    \n",
    "    return extracted_alphabets\n",
    "\n",
    "# Test the function\n",
    "input_string = \"Hello 123 World\"\n",
    "extracted_alphabets = extract_alphabets(input_string)\n",
    "print(extracted_alphabets)  # Output: \"HelloWorld\"\n"
   ]
  },
  {
   "cell_type": "code",
   "execution_count": null,
   "id": "6f7ba7cd-94f2-4902-8b91-6a54d7dec10b",
   "metadata": {},
   "outputs": [],
   "source": [
    "26. Count the number of uppercase letters in a string."
   ]
  },
  {
   "cell_type": "code",
   "execution_count": 56,
   "id": "9c680f29-7d5a-4330-9120-857e53277d83",
   "metadata": {},
   "outputs": [
    {
     "name": "stdout",
     "output_type": "stream",
     "text": [
      "2\n"
     ]
    }
   ],
   "source": [
    "def count_uppercase(input_string):\n",
    "    count = 0\n",
    "    for char in input_string:\n",
    "        if char.isupper():\n",
    "            count += 1\n",
    "    return count\n",
    "\n",
    "# Test the function\n",
    "input_string = \"Hello World\"\n",
    "uppercase_count = count_uppercase(input_string)\n",
    "print(uppercase_count)  # Output: 2\n"
   ]
  },
  {
   "cell_type": "code",
   "execution_count": null,
   "id": "b1e7c1c3-11ef-4cf9-a998-c7055f4c0816",
   "metadata": {},
   "outputs": [],
   "source": [
    "27. Count the number of lowercase letters in a string."
   ]
  },
  {
   "cell_type": "code",
   "execution_count": 57,
   "id": "78fc3e65-0294-44bb-a163-3fb3c9512ce0",
   "metadata": {},
   "outputs": [
    {
     "name": "stdout",
     "output_type": "stream",
     "text": [
      "8\n"
     ]
    }
   ],
   "source": [
    "def count_lowercase(input_string):\n",
    "    count = 0\n",
    "    for char in input_string:\n",
    "        if char.islower():\n",
    "            count += 1\n",
    "    return count\n",
    "\n",
    "# Test the function\n",
    "input_string = \"Hello World\"\n",
    "lowercase_count = count_lowercase(input_string)\n",
    "print(lowercase_count)  # Output: 8\n"
   ]
  },
  {
   "cell_type": "code",
   "execution_count": null,
   "id": "902b45fc-733a-4632-9d58-22b88bed18f3",
   "metadata": {},
   "outputs": [],
   "source": [
    "28. Swap the case of each character in a string."
   ]
  },
  {
   "cell_type": "code",
   "execution_count": 58,
   "id": "26cb4906-1cc1-4311-bb68-ecd46431f55f",
   "metadata": {},
   "outputs": [
    {
     "name": "stdout",
     "output_type": "stream",
     "text": [
      "hELLO wORLD\n"
     ]
    }
   ],
   "source": [
    "def swap_case(input_string):\n",
    "    return input_string.swapcase()\n",
    "\n",
    "# Test the function\n",
    "input_string = \"Hello World\"\n",
    "swapped_string = swap_case(input_string)\n",
    "print(swapped_string)  # Output: \"hELLO wORLD\"\n"
   ]
  },
  {
   "cell_type": "code",
   "execution_count": null,
   "id": "9d00756f-8d9f-4877-a4fa-1a06c8360183",
   "metadata": {},
   "outputs": [],
   "source": [
    "29. Remove a specific word from a string."
   ]
  },
  {
   "cell_type": "code",
   "execution_count": 59,
   "id": "f25ff1f5-0176-4cc3-ac58-d8e6604a0956",
   "metadata": {},
   "outputs": [
    {
     "name": "stdout",
     "output_type": "stream",
     "text": [
      "Hello , welcome to the  of Python\n"
     ]
    }
   ],
   "source": [
    "def remove_word(input_string, word_to_remove):\n",
    "    return input_string.replace(word_to_remove, '')\n",
    "\n",
    "# Test the function\n",
    "input_string = \"Hello world, welcome to the world of Python\"\n",
    "word_to_remove = \"world\"\n",
    "new_string = remove_word(input_string, word_to_remove)\n",
    "print(new_string)  # Output: \"Hello , welcome to the of Python\"\n"
   ]
  },
  {
   "cell_type": "code",
   "execution_count": null,
   "id": "f6aabe13-14da-4365-aafd-df598ca70127",
   "metadata": {},
   "outputs": [],
   "source": [
    "30. Check if a string is a valid email address."
   ]
  },
  {
   "cell_type": "code",
   "execution_count": 60,
   "id": "26ee87c1-c591-4610-a07c-ed0e9ae80999",
   "metadata": {},
   "outputs": [
    {
     "name": "stdout",
     "output_type": "stream",
     "text": [
      "True\n",
      "False\n"
     ]
    }
   ],
   "source": [
    "import re\n",
    "\n",
    "def is_valid_email(email):\n",
    "    # Regular expression pattern for a basic email validation\n",
    "    pattern = r'^[a-zA-Z0-9_.+-]+@[a-zA-Z0-9-]+\\.[a-zA-Z0-9-.]+$'\n",
    "    return bool(re.match(pattern, email))\n",
    "\n",
    "# Test the function\n",
    "email1 = \"example@example.com\"\n",
    "email2 = \"invalid_email.com\"\n",
    "print(is_valid_email(email1))  # Output: True\n",
    "print(is_valid_email(email2))  # Output: False\n"
   ]
  },
  {
   "cell_type": "code",
   "execution_count": null,
   "id": "b08a659a-4366-48f9-a413-3cd3c4d6e96b",
   "metadata": {},
   "outputs": [],
   "source": [
    "31. Extract the username from an email address string."
   ]
  },
  {
   "cell_type": "code",
   "execution_count": 61,
   "id": "51fe23cd-ded1-4a77-9950-c0dd34eda8ed",
   "metadata": {},
   "outputs": [
    {
     "name": "stdout",
     "output_type": "stream",
     "text": [
      "username\n"
     ]
    }
   ],
   "source": [
    "def extract_username(email):\n",
    "    # Split the email address at the \"@\" symbol\n",
    "    parts = email.split(\"@\")\n",
    "    \n",
    "    # The username is the first part of the split\n",
    "    username = parts[0]\n",
    "    \n",
    "    return username\n",
    "\n",
    "# Test the function\n",
    "email = \"username@example.com\"\n",
    "username = extract_username(email)\n",
    "print(username)  # Output: \"username\"\n"
   ]
  },
  {
   "cell_type": "code",
   "execution_count": null,
   "id": "614cb1bb-2f8f-4c98-ba25-7a34cf1ed709",
   "metadata": {},
   "outputs": [],
   "source": [
    "32. Extract the domain name from an email address string."
   ]
  },
  {
   "cell_type": "code",
   "execution_count": 62,
   "id": "ebd700f9-affd-4857-9f70-5a38ff727c40",
   "metadata": {},
   "outputs": [
    {
     "name": "stdout",
     "output_type": "stream",
     "text": [
      "example.com\n"
     ]
    }
   ],
   "source": [
    "def extract_domain(email):\n",
    "    # Split the email address at the \"@\" symbol\n",
    "    parts = email.split(\"@\")\n",
    "    \n",
    "    # The domain name is the second part of the split\n",
    "    domain = parts[1]\n",
    "    \n",
    "    return domain\n",
    "\n",
    "# Test the function\n",
    "email = \"username@example.com\"\n",
    "domain = extract_domain(email)\n",
    "print(domain)  # Output: \"example.com\"\n"
   ]
  },
  {
   "cell_type": "code",
   "execution_count": null,
   "id": "a6d67702-fd8e-4ca5-9110-e5986615c766",
   "metadata": {},
   "outputs": [],
   "source": [
    "33. Replace multiple spaces in a string with a single space."
   ]
  },
  {
   "cell_type": "code",
   "execution_count": 63,
   "id": "8512a053-6fd7-45ce-9795-e9954e0a0ed0",
   "metadata": {},
   "outputs": [
    {
     "name": "stdout",
     "output_type": "stream",
     "text": [
      "Hello world Python\n"
     ]
    }
   ],
   "source": [
    "import re\n",
    "\n",
    "def replace_multiple_spaces(input_string):\n",
    "    return re.sub(' +', ' ', input_string)\n",
    "\n",
    "# Test the function\n",
    "input_string = \"Hello    world   Python\"\n",
    "new_string = replace_multiple_spaces(input_string)\n",
    "print(new_string)  # Output: \"Hello world Python\"\n"
   ]
  },
  {
   "cell_type": "code",
   "execution_count": null,
   "id": "8ad45553-90d8-4aa5-8563-f8a2eacd08fc",
   "metadata": {},
   "outputs": [],
   "source": [
    "34. Check if a string is a valid URL."
   ]
  },
  {
   "cell_type": "code",
   "execution_count": 64,
   "id": "ae489084-7583-4389-a255-d95eec347833",
   "metadata": {},
   "outputs": [
    {
     "name": "stdout",
     "output_type": "stream",
     "text": [
      "Collecting validators\n",
      "  Downloading validators-0.24.0-py3-none-any.whl (27 kB)\n",
      "Installing collected packages: validators\n",
      "Successfully installed validators-0.24.0\n",
      "Note: you may need to restart the kernel to use updated packages.\n"
     ]
    }
   ],
   "source": [
    "pip install validators\n"
   ]
  },
  {
   "cell_type": "code",
   "execution_count": 65,
   "id": "1798f399-1383-43f9-b529-9618233f63f7",
   "metadata": {},
   "outputs": [
    {
     "name": "stdout",
     "output_type": "stream",
     "text": [
      "True\n",
      "ValidationError(func=url, args={'value': 'invalid_url'})\n"
     ]
    }
   ],
   "source": [
    "import validators\n",
    "\n",
    "def is_valid_url(url):\n",
    "    return validators.url(url)\n",
    "\n",
    "# Test the function\n",
    "url1 = \"https://www.example.com\"\n",
    "url2 = \"invalid_url\"\n",
    "print(is_valid_url(url1))  # Output: True\n",
    "print(is_valid_url(url2))  # Output: False\n"
   ]
  },
  {
   "cell_type": "code",
   "execution_count": null,
   "id": "fc32fbb6-2278-44dd-9a29-7ecc1920cdf5",
   "metadata": {},
   "outputs": [],
   "source": [
    "35. Extract the protocol (http or https) from a URL string."
   ]
  },
  {
   "cell_type": "code",
   "execution_count": 66,
   "id": "a41af3db-eeae-45b4-816c-a9f51cd7f6ef",
   "metadata": {},
   "outputs": [
    {
     "name": "stdout",
     "output_type": "stream",
     "text": [
      "https\n"
     ]
    }
   ],
   "source": [
    "def extract_protocol(url):\n",
    "    # Split the URL at the first occurrence of \"://\"\n",
    "    parts = url.split(\"://\")\n",
    "    \n",
    "    # The protocol is the first part of the split\n",
    "    protocol = parts[0]\n",
    "    \n",
    "    return protocol\n",
    "\n",
    "# Test the function\n",
    "url = \"https://www.example.com\"\n",
    "protocol = extract_protocol(url)\n",
    "print(protocol)  # Output: \"https\"\n"
   ]
  },
  {
   "cell_type": "code",
   "execution_count": null,
   "id": "396103a4-9054-496c-bf24-0fd9406c649f",
   "metadata": {},
   "outputs": [],
   "source": [
    "36. Find the frequency of each character in a string."
   ]
  },
  {
   "cell_type": "code",
   "execution_count": 67,
   "id": "89019a3f-1c79-49c6-b293-b60d2e50f5eb",
   "metadata": {},
   "outputs": [
    {
     "name": "stdout",
     "output_type": "stream",
     "text": [
      "{'h': 1, 'e': 1, 'l': 3, 'o': 2, ' ': 1, 'w': 1, 'r': 1, 'd': 1}\n"
     ]
    }
   ],
   "source": [
    "def char_frequency(input_string):\n",
    "    # Create an empty dictionary to store the frequency of each character\n",
    "    frequency = {}\n",
    "    \n",
    "    # Iterate over each character in the input string\n",
    "    for char in input_string:\n",
    "        # Increment the count of the character in the dictionary\n",
    "        frequency[char] = frequency.get(char, 0) + 1\n",
    "    \n",
    "    return frequency\n",
    "\n",
    "# Test the function\n",
    "input_string = \"hello world\"\n",
    "frequency = char_frequency(input_string)\n",
    "print(frequency)\n"
   ]
  },
  {
   "cell_type": "code",
   "execution_count": null,
   "id": "9857e368-b00c-418d-86b1-dc8bc9913857",
   "metadata": {},
   "outputs": [],
   "source": [
    "37. Remove all punctuation from a string."
   ]
  },
  {
   "cell_type": "code",
   "execution_count": 68,
   "id": "3d4fe838-b5d4-4e65-b0a5-4f181458280e",
   "metadata": {},
   "outputs": [
    {
     "name": "stdout",
     "output_type": "stream",
     "text": [
      "Hello World This is a test\n"
     ]
    }
   ],
   "source": [
    "import string\n",
    "\n",
    "def remove_punctuation(input_string):\n",
    "    # Create a translation table to map all punctuation characters to None\n",
    "    translation_table = str.maketrans('', '', string.punctuation)\n",
    "    \n",
    "    # Use the translation table to remove all punctuation characters\n",
    "    cleaned_string = input_string.translate(translation_table)\n",
    "    \n",
    "    return cleaned_string\n",
    "\n",
    "# Test the function\n",
    "input_string = \"Hello, World! This is a test.\"\n",
    "cleaned_string = remove_punctuation(input_string)\n",
    "print(cleaned_string)  # Output: \"Hello World This is a test\"\n"
   ]
  },
  {
   "cell_type": "code",
   "execution_count": null,
   "id": "f44d4055-90d5-4398-ac2c-325ce7eb682d",
   "metadata": {},
   "outputs": [],
   "source": [
    "38. Check if a string contains only digits."
   ]
  },
  {
   "cell_type": "code",
   "execution_count": 69,
   "id": "0ecc8856-a563-47d9-8dbe-c00d48c57529",
   "metadata": {},
   "outputs": [
    {
     "name": "stdout",
     "output_type": "stream",
     "text": [
      "True\n",
      "False\n"
     ]
    }
   ],
   "source": [
    "def contains_only_digits(input_string):\n",
    "    return input_string.isdigit()\n",
    "\n",
    "# Test the function\n",
    "input_string1 = \"12345\"\n",
    "input_string2 = \"12345a\"\n",
    "print(contains_only_digits(input_string1))  # Output: True\n",
    "print(contains_only_digits(input_string2))  # Output: False\n"
   ]
  },
  {
   "cell_type": "code",
   "execution_count": null,
   "id": "da4df3d3-1e88-4d28-9511-47e297c8ee11",
   "metadata": {},
   "outputs": [],
   "source": [
    "39. Check if a string contains only alphabets."
   ]
  },
  {
   "cell_type": "code",
   "execution_count": 70,
   "id": "f1bac528-2b65-4997-af81-82870a9b264e",
   "metadata": {},
   "outputs": [
    {
     "name": "stdout",
     "output_type": "stream",
     "text": [
      "True\n",
      "False\n"
     ]
    }
   ],
   "source": [
    "def contains_only_alphabets(input_string):\n",
    "    return input_string.isalpha()\n",
    "\n",
    "# Test the function\n",
    "input_string1 = \"abcd\"\n",
    "input_string2 = \"abcd123\"\n",
    "print(contains_only_alphabets(input_string1))  # Output: True\n",
    "print(contains_only_alphabets(input_string2))  # Output: False\n"
   ]
  },
  {
   "cell_type": "code",
   "execution_count": null,
   "id": "cc38a746-eb46-45a7-9b21-c0b7aece7e51",
   "metadata": {},
   "outputs": [],
   "source": [
    "40. Convert a string to a list of characters."
   ]
  },
  {
   "cell_type": "code",
   "execution_count": 71,
   "id": "ab46a69c-8fb5-4fbb-b63c-01da9ab1dda5",
   "metadata": {},
   "outputs": [
    {
     "name": "stdout",
     "output_type": "stream",
     "text": [
      "['h', 'e', 'l', 'l', 'o']\n"
     ]
    }
   ],
   "source": [
    "def string_to_list(input_string):\n",
    "    return list(input_string)\n",
    "\n",
    "# Test the function\n",
    "input_string = \"hello\"\n",
    "char_list = string_to_list(input_string)\n",
    "print(char_list)  # Output: ['h', 'e', 'l', 'l', 'o']\n"
   ]
  },
  {
   "cell_type": "code",
   "execution_count": null,
   "id": "7bafc407-251f-4215-972f-9e5e75e14e8b",
   "metadata": {},
   "outputs": [],
   "source": [
    "41. Check if two strings are anagrams."
   ]
  },
  {
   "cell_type": "code",
   "execution_count": 72,
   "id": "bbdcb680-414b-4a58-a55e-19048c8f44c0",
   "metadata": {},
   "outputs": [
    {
     "name": "stdout",
     "output_type": "stream",
     "text": [
      "True\n",
      "False\n"
     ]
    }
   ],
   "source": [
    "def are_anagrams(str1, str2):\n",
    "    # Remove spaces and convert both strings to lowercase\n",
    "    str1 = str1.replace(\" \", \"\").lower()\n",
    "    str2 = str2.replace(\" \", \"\").lower()\n",
    "    \n",
    "    # Check if the sorted versions of the strings are equal\n",
    "    return sorted(str1) == sorted(str2)\n",
    "\n",
    "# Test the function\n",
    "string1 = \"Listen\"\n",
    "string2 = \"Silent\"\n",
    "print(are_anagrams(string1, string2))  # Output: True\n",
    "\n",
    "string3 = \"hello\"\n",
    "string4 = \"world\"\n",
    "print(are_anagrams(string3, string4))  # Output: False\n"
   ]
  },
  {
   "cell_type": "code",
   "execution_count": null,
   "id": "5db861fd-0348-4e1b-bd4b-92c47e2241d8",
   "metadata": {},
   "outputs": [],
   "source": [
    "42. Encode a string using a Caesar cipher."
   ]
  },
  {
   "cell_type": "code",
   "execution_count": 76,
   "id": "13886cb6-a476-43a4-83e7-c66fa170a85c",
   "metadata": {},
   "outputs": [
    {
     "name": "stdout",
     "output_type": "stream",
     "text": [
      "Khoor, Zruog!\n"
     ]
    }
   ],
   "source": [
    "def caesar_cipher_encrypt(input_string, shift):\n",
    "    result = \"\"\n",
    "    for char in input_string:\n",
    "        if char.isalpha():\n",
    "            # Determine the appropriate case range (upper or lower) for the character\n",
    "            ascii_offset = 65 if char.isupper() else 97\n",
    "            # Apply the shift and ensure it wraps around the alphabet\n",
    "            shifted_char = chr((ord(char) - ascii_offset + shift) % 26 + ascii_offset)\n",
    "            result += shifted_char\n",
    "        else:\n",
    "            result += char\n",
    "    return result\n",
    "\n",
    "# Test the function\n",
    "input_string = \"Hello, World!\"\n",
    "shift = 3\n",
    "encrypted_string = caesar_cipher_encrypt(input_string, shift)\n",
    "print(encrypted_string)  # Output: \"Khoor, Zruog!\"\n"
   ]
  },
  {
   "cell_type": "code",
   "execution_count": null,
   "id": "79c52931-3323-4068-91da-a0d728d003a0",
   "metadata": {},
   "outputs": [],
   "source": [
    "43. Decode a Caesar cipher encoded string."
   ]
  },
  {
   "cell_type": "code",
   "execution_count": 77,
   "id": "16699699-54b5-4e17-b50a-8c4336fe10ea",
   "metadata": {},
   "outputs": [
    {
     "name": "stdout",
     "output_type": "stream",
     "text": [
      "Hello, World!\n"
     ]
    }
   ],
   "source": [
    "def caesar_cipher_decrypt(input_string, shift):\n",
    "    return caesar_cipher_encrypt(input_string, -shift)\n",
    "\n",
    "# Test the function\n",
    "input_string = \"Khoor, Zruog!\"\n",
    "shift = 3\n",
    "decrypted_string = caesar_cipher_decrypt(input_string, shift)\n",
    "print(decrypted_string)  # Output: \"Hello, World!\"\n"
   ]
  },
  {
   "cell_type": "code",
   "execution_count": null,
   "id": "b60a8a78-fefb-498a-90d5-5698d7882991",
   "metadata": {},
   "outputs": [],
   "source": [
    "44. Find the most frequent word in a string."
   ]
  },
  {
   "cell_type": "code",
   "execution_count": 78,
   "id": "b82e0f92-5444-4d45-9e1a-532b0b76da5b",
   "metadata": {},
   "outputs": [
    {
     "name": "stdout",
     "output_type": "stream",
     "text": [
      "hello\n"
     ]
    }
   ],
   "source": [
    "def most_frequent_word(input_string):\n",
    "    # Split the string into words\n",
    "    words = input_string.split()\n",
    "    \n",
    "    # Create a dictionary to store the frequency of each word\n",
    "    word_freq = {}\n",
    "    for word in words:\n",
    "        word_freq[word] = word_freq.get(word, 0) + 1\n",
    "    \n",
    "    # Find the most frequent word\n",
    "    most_frequent_word = max(word_freq, key=word_freq.get)\n",
    "    \n",
    "    return most_frequent_word\n",
    "\n",
    "# Test the function\n",
    "input_string = \"hello world hello python world\"\n",
    "result = most_frequent_word(input_string)\n",
    "print(result)  # Output: \"hello\"\n"
   ]
  },
  {
   "cell_type": "code",
   "execution_count": null,
   "id": "a4bf7149-3e10-45ee-88aa-b15fe48c9e64",
   "metadata": {},
   "outputs": [],
   "source": [
    "45. Find all unique words in a string."
   ]
  },
  {
   "cell_type": "code",
   "execution_count": 79,
   "id": "ea61b64b-2e96-4eef-b8a3-95dd5171fc6f",
   "metadata": {},
   "outputs": [
    {
     "name": "stdout",
     "output_type": "stream",
     "text": [
      "{'python', 'hello', 'world'}\n"
     ]
    }
   ],
   "source": [
    "def unique_words(input_string):\n",
    "    # Split the string into words\n",
    "    words = input_string.split()\n",
    "    \n",
    "    # Use a set to store unique words\n",
    "    unique_words_set = set(words)\n",
    "    \n",
    "    return unique_words_set\n",
    "\n",
    "# Test the function\n",
    "input_string = \"hello world hello python world\"\n",
    "result = unique_words(input_string)\n",
    "print(result)  # Output: {'hello', 'world', 'python'}\n",
    "\n"
   ]
  },
  {
   "cell_type": "code",
   "execution_count": null,
   "id": "ab88b02e-2a5a-4175-92ba-e0c753a388d7",
   "metadata": {},
   "outputs": [],
   "source": [
    "46. Count the number of syllables in a string."
   ]
  },
  {
   "cell_type": "code",
   "execution_count": 82,
   "id": "e247b228-db50-4d20-9b62-022d09874746",
   "metadata": {},
   "outputs": [
    {
     "ename": "ModuleNotFoundError",
     "evalue": "No module named 'pyphen'",
     "output_type": "error",
     "traceback": [
      "\u001b[0;31m---------------------------------------------------------------------------\u001b[0m",
      "\u001b[0;31mModuleNotFoundError\u001b[0m                       Traceback (most recent call last)",
      "Cell \u001b[0;32mIn[82], line 1\u001b[0m\n\u001b[0;32m----> 1\u001b[0m \u001b[38;5;28;01mimport\u001b[39;00m \u001b[38;5;21;01mpyphen\u001b[39;00m\n\u001b[1;32m      3\u001b[0m \u001b[38;5;28;01mdef\u001b[39;00m \u001b[38;5;21mcount_syllables\u001b[39m(input_string):\n\u001b[1;32m      4\u001b[0m     dic \u001b[38;5;241m=\u001b[39m python\u001b[38;5;241m.\u001b[39mPypthon(lang\u001b[38;5;241m=\u001b[39m\u001b[38;5;124m'\u001b[39m\u001b[38;5;124men\u001b[39m\u001b[38;5;124m'\u001b[39m)\n",
      "\u001b[0;31mModuleNotFoundError\u001b[0m: No module named 'pyphen'"
     ]
    }
   ],
   "source": [
    "import pyphen\n",
    "\n",
    "def count_syllables(input_string):\n",
    "    dic = python.Pypthon(lang='en')\n",
    "    words = input_string.split()\n",
    "    syllable_count = 0\n",
    "    for word in words:\n",
    "        syllables = dic.inserted(word).count(\"-\") + 1\n",
    "        syllable_count += syllables\n",
    "    return syllable_count\n",
    "\n",
    "# Test the function\n",
    "input_string = \"hello world\"\n",
    "syllable_count = count_syllables(input_string)\n",
    "print(syllable_count)  # Output: 3\n"
   ]
  },
  {
   "cell_type": "code",
   "execution_count": null,
   "id": "46f0b948-648c-41f1-9f2d-0535305d96a2",
   "metadata": {},
   "outputs": [],
   "source": [
    "47. Check if a string contains any special characters."
   ]
  },
  {
   "cell_type": "code",
   "execution_count": 83,
   "id": "16e29562-55f8-414e-8807-33dc40c49a96",
   "metadata": {},
   "outputs": [
    {
     "name": "stdout",
     "output_type": "stream",
     "text": [
      "True\n",
      "False\n"
     ]
    }
   ],
   "source": [
    "import re\n",
    "\n",
    "def contains_special_characters(input_string):\n",
    "    # Define a regular expression pattern for special characters\n",
    "    pattern = r'[^a-zA-Z0-9\\s]'\n",
    "    \n",
    "    # Use re.search() to check if the input string contains any special characters\n",
    "    return bool(re.search(pattern, input_string))\n",
    "\n",
    "# Test the function\n",
    "input_string1 = \"Hello, World!\"\n",
    "input_string2 = \"HelloWorld123\"\n",
    "print(contains_special_characters(input_string1))  # Output: True\n",
    "print(contains_special_characters(input_string2))  # Output: False\n"
   ]
  },
  {
   "cell_type": "code",
   "execution_count": null,
   "id": "6efb9a88-2b79-4839-9c10-6f5fb168c5fa",
   "metadata": {},
   "outputs": [],
   "source": [
    "48. Remove the nth word from a string."
   ]
  },
  {
   "cell_type": "code",
   "execution_count": 84,
   "id": "61d4eb8e-174b-4cb9-be9b-aa7730c78490",
   "metadata": {},
   "outputs": [
    {
     "name": "stdout",
     "output_type": "stream",
     "text": [
      "Hello world, to Python\n"
     ]
    }
   ],
   "source": [
    "def remove_nth_word(input_string, n):\n",
    "    # Split the string into words\n",
    "    words = input_string.split()\n",
    "    \n",
    "    # Check if the specified index is valid\n",
    "    if n < 0 or n >= len(words):\n",
    "        return \"Invalid index\"\n",
    "    \n",
    "    # Remove the word at the specified index\n",
    "    del words[n]\n",
    "    \n",
    "    # Join the remaining words back together\n",
    "    new_string = ' '.join(words)\n",
    "    \n",
    "    return new_string\n",
    "\n",
    "# Test the function\n",
    "input_string = \"Hello world, welcome to Python\"\n",
    "n = 2\n",
    "new_string = remove_nth_word(input_string, n)\n",
    "print(new_string)  # Output: \"Hello world, to Python\"\n"
   ]
  },
  {
   "cell_type": "code",
   "execution_count": null,
   "id": "f4da6243-2a66-417d-ad2d-9e7f41782981",
   "metadata": {},
   "outputs": [],
   "source": [
    "49. Insert a word at the nth position in a string."
   ]
  },
  {
   "cell_type": "code",
   "execution_count": 85,
   "id": "45dc206b-7ecd-4292-ae10-c805509e7f89",
   "metadata": {},
   "outputs": [
    {
     "name": "stdout",
     "output_type": "stream",
     "text": [
      "Hello world, welcome beautiful to Python\n"
     ]
    }
   ],
   "source": [
    "def insert_word_at_nth_position(input_string, word_to_insert, n):\n",
    "    # Split the string into words\n",
    "    words = input_string.split()\n",
    "    \n",
    "    # Check if the specified index is valid\n",
    "    if n < 0 or n > len(words):\n",
    "        return \"Invalid index\"\n",
    "    \n",
    "    # Insert the new word at the specified index\n",
    "    words.insert(n, word_to_insert)\n",
    "    \n",
    "    # Join the words back together\n",
    "    new_string = ' '.join(words)\n",
    "    \n",
    "    return new_string\n",
    "\n",
    "# Test the function\n",
    "input_string = \"Hello world, welcome to Python\"\n",
    "word_to_insert = \"beautiful\"\n",
    "n = 3\n",
    "new_string = insert_word_at_nth_position(input_string, word_to_insert, n)\n",
    "print(new_string)  # Output: \"Hello world, welcome beautiful to Python\"\n"
   ]
  },
  {
   "cell_type": "code",
   "execution_count": null,
   "id": "f19fa98d-969b-4810-beec-518497283687",
   "metadata": {},
   "outputs": [],
   "source": [
    "50. Convert a CSV string to a list of lists."
   ]
  },
  {
   "cell_type": "code",
   "execution_count": 86,
   "id": "f7c28b85-bba6-416a-b861-d60307c7b236",
   "metadata": {},
   "outputs": [
    {
     "name": "stdout",
     "output_type": "stream",
     "text": [
      "[['1', 'John', 'Doe'], ['2', 'Jane', 'Smith'], ['3', 'Bob', 'Johnson']]\n"
     ]
    }
   ],
   "source": [
    "import csv\n",
    "from io import StringIO\n",
    "\n",
    "def csv_string_to_list(csv_string):\n",
    "    # Use StringIO to convert the CSV string to a file-like object\n",
    "    csv_file = StringIO(csv_string)\n",
    "    \n",
    "    # Use the csv.reader to read the CSV file and convert it to a list of lists\n",
    "    csv_reader = csv.reader(csv_file)\n",
    "    csv_list = list(csv_reader)\n",
    "    \n",
    "    return csv_list\n",
    "\n",
    "# Test the function\n",
    "csv_string = \"1,John,Doe\\n2,Jane,Smith\\n3,Bob,Johnson\"\n",
    "csv_list = csv_string_to_list(csv_string)\n",
    "print(csv_list)\n"
   ]
  },
  {
   "cell_type": "markdown",
   "id": "b9d7f3c0-19ca-4f7d-b2f3-0976573d5d32",
   "metadata": {},
   "source": [
    "list based practice question\n"
   ]
  },
  {
   "cell_type": "code",
   "execution_count": null,
   "id": "5ec2f77c-795c-492b-bcf5-6c7e7c1036e2",
   "metadata": {},
   "outputs": [],
   "source": [
    "1. Create a list with integers from 1 to 10."
   ]
  },
  {
   "cell_type": "code",
   "execution_count": 88,
   "id": "5d66ccb6-e2d9-4176-afbc-08067d671379",
   "metadata": {},
   "outputs": [],
   "source": [
    "l=[1,2,3,4,5,6,7,8,9,10]"
   ]
  },
  {
   "cell_type": "code",
   "execution_count": 89,
   "id": "0d99fdaf-f9f3-4b3e-9d27-0acb39ed5823",
   "metadata": {},
   "outputs": [
    {
     "data": {
      "text/plain": [
       "[1, 2, 3, 4, 5, 6, 7, 8, 9, 10]"
      ]
     },
     "execution_count": 89,
     "metadata": {},
     "output_type": "execute_result"
    }
   ],
   "source": [
    "l"
   ]
  },
  {
   "cell_type": "code",
   "execution_count": null,
   "id": "6cb254eb-94a5-4e2a-9892-e3d04e5096e0",
   "metadata": {},
   "outputs": [],
   "source": [
    " 2. Find the length of a list without using the `len()` function."
   ]
  },
  {
   "cell_type": "code",
   "execution_count": 96,
   "id": "234e05a1-79fe-42ab-9db5-d647ff5d738f",
   "metadata": {},
   "outputs": [
    {
     "name": "stdout",
     "output_type": "stream",
     "text": [
      "5\n"
     ]
    }
   ],
   "source": [
    "def find_length_of_list(lst):\n",
    "    count = 0\n",
    "    for _ in lst:\n",
    "        count += 1\n",
    "    return count\n",
    "\n",
    "# Test the function\n",
    "my_list = [1, 2, 3, 4, 5]\n",
    "length = find_length_of_list(my_list)\n",
    "print(length)  # Output: 5\n"
   ]
  },
  {
   "cell_type": "code",
   "execution_count": null,
   "id": "4b656b24-e6fa-4215-bb8d-bd0ef1937552",
   "metadata": {},
   "outputs": [],
   "source": [
    "3. Append an element to the end of a list."
   ]
  },
  {
   "cell_type": "code",
   "execution_count": 97,
   "id": "8557e2a9-1b9d-427b-960a-4489e729317a",
   "metadata": {},
   "outputs": [
    {
     "data": {
      "text/plain": [
       "[1, 2, 3, 4, 5, 6, 7, 8, 9, 10]"
      ]
     },
     "execution_count": 97,
     "metadata": {},
     "output_type": "execute_result"
    }
   ],
   "source": [
    "l"
   ]
  },
  {
   "cell_type": "code",
   "execution_count": 98,
   "id": "eddbbb86-2cd1-4e3c-b2b8-24b285f7db33",
   "metadata": {},
   "outputs": [],
   "source": [
    "l.append(5)"
   ]
  },
  {
   "cell_type": "code",
   "execution_count": 99,
   "id": "cd7c37b7-a858-426e-b7ed-c82f7067c9fd",
   "metadata": {},
   "outputs": [
    {
     "data": {
      "text/plain": [
       "[1, 2, 3, 4, 5, 6, 7, 8, 9, 10, 5]"
      ]
     },
     "execution_count": 99,
     "metadata": {},
     "output_type": "execute_result"
    }
   ],
   "source": [
    "l"
   ]
  },
  {
   "cell_type": "code",
   "execution_count": null,
   "id": "901ab0bb-bd4f-4a33-86f7-e1b4425d6491",
   "metadata": {},
   "outputs": [],
   "source": [
    "4. Insert an element at a specific index in a list."
   ]
  },
  {
   "cell_type": "code",
   "execution_count": 108,
   "id": "dcf2cd10-44de-49d3-9cca-83ff72e3bb55",
   "metadata": {},
   "outputs": [
    {
     "name": "stdout",
     "output_type": "stream",
     "text": [
      "[1, 2, 100, 3, 4, 5]\n"
     ]
    }
   ],
   "source": [
    "def insert_at_index(lst, index, element):\n",
    "    lst.insert(index, element)\n",
    "    return lst\n",
    "\n",
    "# Test the function\n",
    "my_list = [1, 2, 3, 4, 5]\n",
    "index = 2\n",
    "element = 100\n",
    "new_list = insert_at_index(my_list, index, element)\n",
    "print(new_list)  # Output: [1, 2, 100, 3, 4, 5]\n"
   ]
  },
  {
   "cell_type": "code",
   "execution_count": null,
   "id": "806dfd69-b417-4c50-ac4d-d41677e942fb",
   "metadata": {},
   "outputs": [],
   "source": [
    "5. Remove an element from a list by its value."
   ]
  },
  {
   "cell_type": "code",
   "execution_count": 109,
   "id": "dda91d7e-cef7-4202-9396-1856759de681",
   "metadata": {},
   "outputs": [
    {
     "data": {
      "text/plain": [
       "[1, 2, 3, 4, 5, 6, 7, 8, 9, 10, 5]"
      ]
     },
     "execution_count": 109,
     "metadata": {},
     "output_type": "execute_result"
    }
   ],
   "source": [
    "l"
   ]
  },
  {
   "cell_type": "code",
   "execution_count": 110,
   "id": "cc994356-2bd7-4bf4-8b85-f2e4f9707582",
   "metadata": {},
   "outputs": [],
   "source": [
    "l.remove(6)"
   ]
  },
  {
   "cell_type": "code",
   "execution_count": 111,
   "id": "334047e0-3a55-4f36-a115-d9f451e8eb2d",
   "metadata": {},
   "outputs": [
    {
     "data": {
      "text/plain": [
       "[1, 2, 3, 4, 5, 7, 8, 9, 10, 5]"
      ]
     },
     "execution_count": 111,
     "metadata": {},
     "output_type": "execute_result"
    }
   ],
   "source": [
    "l"
   ]
  },
  {
   "cell_type": "code",
   "execution_count": null,
   "id": "d2d21577-a4eb-4333-9a87-4c332fddb14a",
   "metadata": {},
   "outputs": [],
   "source": [
    "Remove an element from a list by its index."
   ]
  },
  {
   "cell_type": "code",
   "execution_count": 112,
   "id": "f2158f78-1cc8-43ad-abb3-59d5fd2ca963",
   "metadata": {},
   "outputs": [
    {
     "data": {
      "text/plain": [
       "[1, 2, 3, 4, 5, 7, 8, 9, 10, 5]"
      ]
     },
     "execution_count": 112,
     "metadata": {},
     "output_type": "execute_result"
    }
   ],
   "source": [
    "l"
   ]
  },
  {
   "cell_type": "code",
   "execution_count": 113,
   "id": "536fc4f5-d989-4744-a562-e5830e8ed09f",
   "metadata": {},
   "outputs": [
    {
     "data": {
      "text/plain": [
       "1"
      ]
     },
     "execution_count": 113,
     "metadata": {},
     "output_type": "execute_result"
    }
   ],
   "source": [
    "l.pop(0)"
   ]
  },
  {
   "cell_type": "code",
   "execution_count": 114,
   "id": "82ffdb90-212f-4ad0-9451-4141b15411c3",
   "metadata": {},
   "outputs": [
    {
     "data": {
      "text/plain": [
       "[2, 3, 4, 5, 7, 8, 9, 10, 5]"
      ]
     },
     "execution_count": 114,
     "metadata": {},
     "output_type": "execute_result"
    }
   ],
   "source": [
    "l"
   ]
  },
  {
   "cell_type": "code",
   "execution_count": null,
   "id": "7c5cd9ad-e8fb-4ca1-a92d-3fa7e94ffdfe",
   "metadata": {},
   "outputs": [],
   "source": [
    "Check if an element exists in a list."
   ]
  },
  {
   "cell_type": "code",
   "execution_count": 115,
   "id": "d2922ca0-7306-4bc0-b91b-1ac327af1501",
   "metadata": {},
   "outputs": [
    {
     "name": "stdout",
     "output_type": "stream",
     "text": [
      "True\n"
     ]
    }
   ],
   "source": [
    "def check_element_exists(lst, element):\n",
    "    return element in lst\n",
    "\n",
    "# Test the function\n",
    "my_list = [1, 2, 3, 4, 5]\n",
    "element_to_check = 3\n",
    "result = check_element_exists(my_list, element_to_check)\n",
    "print(result)  # Output: True\n"
   ]
  },
  {
   "cell_type": "code",
   "execution_count": null,
   "id": "e58e3d20-d54c-4353-a55c-f2021007c97a",
   "metadata": {},
   "outputs": [],
   "source": [
    "8. Find the index of the first occurrence of an element in a list."
   ]
  },
  {
   "cell_type": "code",
   "execution_count": 118,
   "id": "4e88e222-7531-4b98-bc5c-4b3a6ab39fd0",
   "metadata": {},
   "outputs": [
    {
     "name": "stdout",
     "output_type": "stream",
     "text": [
      "2\n"
     ]
    }
   ],
   "source": [
    "def find_first_occurrence(lst, element):\n",
    "    return lst.index(element)\n",
    "\n",
    "# Test the function\n",
    "my_list = [1, 2, 3, 4, 5, 3]\n",
    "element_to_find = 3\n",
    "index = find_first_occurrence(my_list, element_to_find)\n",
    "print(index)  # Output: 2\n"
   ]
  },
  {
   "cell_type": "code",
   "execution_count": null,
   "id": "28ac7289-2f66-465a-892a-56de2ab11cc9",
   "metadata": {},
   "outputs": [],
   "source": [
    "9. Count the occurrences of an element in a list."
   ]
  },
  {
   "cell_type": "code",
   "execution_count": 119,
   "id": "6e650cfa-bb83-448e-ab8a-74f8f6fd97da",
   "metadata": {},
   "outputs": [
    {
     "name": "stdout",
     "output_type": "stream",
     "text": [
      "3\n"
     ]
    }
   ],
   "source": [
    "def count_occurrences(lst, element):\n",
    "    return lst.count(element)\n",
    "\n",
    "# Test the function\n",
    "my_list = [1, 2, 3, 4, 5, 3, 3]\n",
    "element_to_count = 3\n",
    "count = count_occurrences(my_list, element_to_count)\n",
    "print(count)  # Output: 3\n"
   ]
  },
  {
   "cell_type": "code",
   "execution_count": null,
   "id": "779250ef-4d34-47b2-b352-b91bb50e53e6",
   "metadata": {},
   "outputs": [],
   "source": [
    "10. Reverse the order of elements in a list."
   ]
  },
  {
   "cell_type": "code",
   "execution_count": 120,
   "id": "9d364585-8b85-4300-95ff-1c4850009ee9",
   "metadata": {},
   "outputs": [
    {
     "data": {
      "text/plain": [
       "[2, 3, 4, 5, 7, 8, 9, 10, 5]"
      ]
     },
     "execution_count": 120,
     "metadata": {},
     "output_type": "execute_result"
    }
   ],
   "source": [
    "l"
   ]
  },
  {
   "cell_type": "code",
   "execution_count": 121,
   "id": "acea6f9c-78b7-424f-9912-f6707e222934",
   "metadata": {},
   "outputs": [
    {
     "data": {
      "text/plain": [
       "[2, 3, 4, 5, 7, 8, 9, 10, 5]"
      ]
     },
     "execution_count": 121,
     "metadata": {},
     "output_type": "execute_result"
    }
   ],
   "source": [
    "l"
   ]
  },
  {
   "cell_type": "code",
   "execution_count": 122,
   "id": "dab80d54-6530-4fb8-9445-e158fbc01985",
   "metadata": {},
   "outputs": [
    {
     "data": {
      "text/plain": [
       "[5, 10, 9, 8, 7, 5, 4, 3, 2]"
      ]
     },
     "execution_count": 122,
     "metadata": {},
     "output_type": "execute_result"
    }
   ],
   "source": [
    "l[::-1]"
   ]
  },
  {
   "cell_type": "code",
   "execution_count": 125,
   "id": "5b0234a6-3760-4214-837b-42d4dc63db59",
   "metadata": {},
   "outputs": [],
   "source": [
    "l.reverse()"
   ]
  },
  {
   "cell_type": "code",
   "execution_count": 126,
   "id": "4db2707d-3bf5-49ca-8819-d04d9d4da8db",
   "metadata": {},
   "outputs": [
    {
     "data": {
      "text/plain": [
       "[5, 10, 9, 8, 7, 5, 4, 3, 2]"
      ]
     },
     "execution_count": 126,
     "metadata": {},
     "output_type": "execute_result"
    }
   ],
   "source": [
    "l"
   ]
  },
  {
   "cell_type": "code",
   "execution_count": null,
   "id": "1e63cc3d-4d31-4bf2-b56d-2a4cbd6bd884",
   "metadata": {},
   "outputs": [],
   "source": [
    "11. Sort a list in ascending order."
   ]
  },
  {
   "cell_type": "code",
   "execution_count": 127,
   "id": "c947d070-7f7b-4460-9890-ca97046c8009",
   "metadata": {},
   "outputs": [
    {
     "name": "stdout",
     "output_type": "stream",
     "text": [
      "[1, 1, 2, 3, 3, 4, 5, 5, 5, 6, 9]\n"
     ]
    }
   ],
   "source": [
    "def sort_list(lst):\n",
    "    lst.sort()\n",
    "    return lst\n",
    "\n",
    "# Test the function\n",
    "my_list = [3, 1, 4, 1, 5, 9, 2, 6, 5, 3, 5]\n",
    "sorted_list = sort_list(my_list)\n",
    "print(sorted_list)\n"
   ]
  },
  {
   "cell_type": "code",
   "execution_count": null,
   "id": "95f63ffa-31dc-4b4f-bda7-6bae8f472a02",
   "metadata": {},
   "outputs": [],
   "source": [
    "12. Sort a list in descending order."
   ]
  },
  {
   "cell_type": "code",
   "execution_count": 128,
   "id": "c53c5a66-60c3-4545-889d-f6e186f672b5",
   "metadata": {},
   "outputs": [
    {
     "name": "stdout",
     "output_type": "stream",
     "text": [
      "[9, 6, 5, 5, 5, 4, 3, 3, 2, 1, 1]\n"
     ]
    }
   ],
   "source": [
    "def sort_list_descending(lst):\n",
    "    lst.sort(reverse=True)\n",
    "    return lst\n",
    "\n",
    "# Test the function\n",
    "my_list = [3, 1, 4, 1, 5, 9, 2, 6, 5, 3, 5]\n",
    "sorted_list = sort_list_descending(my_list)\n",
    "print(sorted_list)\n",
    "\n"
   ]
  },
  {
   "cell_type": "code",
   "execution_count": null,
   "id": "2f938cc1-7905-41f1-817d-dd72410274cc",
   "metadata": {},
   "outputs": [],
   "source": [
    "13. Create a list of even numbers from 1 to 20."
   ]
  },
  {
   "cell_type": "code",
   "execution_count": 130,
   "id": "3ad683ea-8439-4960-8971-2315c77bc422",
   "metadata": {},
   "outputs": [],
   "source": [
    "l1=[2,4,6,8,10,12,14,16,18,20]"
   ]
  },
  {
   "cell_type": "code",
   "execution_count": 131,
   "id": "2e0bcd78-10d4-4cab-82df-50a4d1bd7768",
   "metadata": {},
   "outputs": [
    {
     "data": {
      "text/plain": [
       "[2, 4, 6, 8, 10, 12, 14, 16, 18, 20]"
      ]
     },
     "execution_count": 131,
     "metadata": {},
     "output_type": "execute_result"
    }
   ],
   "source": [
    "l1"
   ]
  },
  {
   "cell_type": "code",
   "execution_count": null,
   "id": "ebaff218-c94f-4d18-9c28-33d2fcb76c3d",
   "metadata": {},
   "outputs": [],
   "source": [
    "14. Create a list of odd numbers from 1 to 20."
   ]
  },
  {
   "cell_type": "code",
   "execution_count": 132,
   "id": "5947359f-5470-487d-9b7c-6fb02dd72cda",
   "metadata": {},
   "outputs": [],
   "source": [
    "l2=[1,3,7,13,17,19]"
   ]
  },
  {
   "cell_type": "code",
   "execution_count": 133,
   "id": "54df3a59-8689-487c-a8ec-51e77512068a",
   "metadata": {},
   "outputs": [
    {
     "data": {
      "text/plain": [
       "[1, 3, 7, 13, 17, 19]"
      ]
     },
     "execution_count": 133,
     "metadata": {},
     "output_type": "execute_result"
    }
   ],
   "source": [
    "l2"
   ]
  },
  {
   "cell_type": "code",
   "execution_count": null,
   "id": "55230ea3-c784-41c0-892e-0db43ca64105",
   "metadata": {},
   "outputs": [],
   "source": [
    "15. Find the sum of all elements in a list."
   ]
  },
  {
   "cell_type": "code",
   "execution_count": 134,
   "id": "c4f6d68a-cc8e-4f64-963f-c6170823e2f5",
   "metadata": {},
   "outputs": [
    {
     "name": "stdout",
     "output_type": "stream",
     "text": [
      "15\n"
     ]
    }
   ],
   "source": [
    "def sum_of_elements(lst):\n",
    "    return sum(lst)\n",
    "\n",
    "# Test the function\n",
    "my_list = [1, 2, 3, 4, 5]\n",
    "total_sum = sum_of_elements(my_list)\n",
    "print(total_sum)  # Output: 15\n"
   ]
  },
  {
   "cell_type": "code",
   "execution_count": null,
   "id": "5e16a824-6f6d-40fe-b75b-f2af1fee59a7",
   "metadata": {},
   "outputs": [],
   "source": [
    "16. Find the maximum value in a list."
   ]
  },
  {
   "cell_type": "code",
   "execution_count": 135,
   "id": "9421faf8-eb03-436f-b2c5-89fba488ab54",
   "metadata": {},
   "outputs": [
    {
     "name": "stdout",
     "output_type": "stream",
     "text": [
      "5\n"
     ]
    }
   ],
   "source": [
    "def find_maximum(lst):\n",
    "    return max(lst)\n",
    "\n",
    "# Test the function\n",
    "my_list = [1, 2, 3, 4, 5]\n",
    "maximum_value = find_maximum(my_list)\n",
    "print(maximum_value)  # Output: 5\n"
   ]
  },
  {
   "cell_type": "code",
   "execution_count": null,
   "id": "5b334614-bccc-4487-8096-95f934daaba5",
   "metadata": {},
   "outputs": [],
   "source": [
    "17. Find the minimum value in a list."
   ]
  },
  {
   "cell_type": "code",
   "execution_count": 136,
   "id": "c96d5ac6-d94a-4c42-ad27-350a890a559b",
   "metadata": {},
   "outputs": [
    {
     "name": "stdout",
     "output_type": "stream",
     "text": [
      "1\n"
     ]
    }
   ],
   "source": [
    "def find_minimum(lst):\n",
    "    return min(lst)\n",
    "\n",
    "# Test the function\n",
    "my_list = [1, 2, 3, 4, 5]\n",
    "minimum_value = find_minimum(my_list)\n",
    "print(minimum_value)  # Output: 1\n"
   ]
  },
  {
   "cell_type": "code",
   "execution_count": null,
   "id": "7845bb41-0c95-4fb1-94ae-34ce536822ac",
   "metadata": {},
   "outputs": [],
   "source": [
    "18. Create a list of squares of numbers from 1 to 10."
   ]
  },
  {
   "cell_type": "code",
   "execution_count": 137,
   "id": "d973eed1-75df-46a2-aff1-3eefed8ed874",
   "metadata": {},
   "outputs": [
    {
     "name": "stdout",
     "output_type": "stream",
     "text": [
      "[1, 4, 9, 16, 25, 36, 49, 64, 81, 100]\n"
     ]
    }
   ],
   "source": [
    "squares = [x**2 for x in range(1, 11)]\n",
    "\n",
    "# Test the list\n",
    "print(squares)\n"
   ]
  },
  {
   "cell_type": "code",
   "execution_count": null,
   "id": "3e2d5c0d-6265-47ac-b472-5e9ae9499464",
   "metadata": {},
   "outputs": [],
   "source": [
    "19. Create a list of random numbers."
   ]
  },
  {
   "cell_type": "code",
   "execution_count": 138,
   "id": "493af520-54a1-4d79-890c-0f2e827492d4",
   "metadata": {},
   "outputs": [
    {
     "name": "stdout",
     "output_type": "stream",
     "text": [
      "[2, 10, 7, 4, 9]\n"
     ]
    }
   ],
   "source": [
    "import random\n",
    "\n",
    "def generate_random_list(length, start, end):\n",
    "    return [random.randint(start, end) for _ in range(length)]\n",
    "\n",
    "# Test the function\n",
    "length = 5\n",
    "start = 1\n",
    "end = 10\n",
    "random_list = generate_random_list(length, start, end)\n",
    "print(random_list)\n"
   ]
  },
  {
   "cell_type": "code",
   "execution_count": null,
   "id": "689be23a-75f1-4709-b93e-2c23528453b8",
   "metadata": {},
   "outputs": [],
   "source": [
    "20. Remove duplicates from a list."
   ]
  },
  {
   "cell_type": "code",
   "execution_count": 139,
   "id": "5c647b69-ffd6-4b2b-aac5-6240adbd445b",
   "metadata": {},
   "outputs": [
    {
     "name": "stdout",
     "output_type": "stream",
     "text": [
      "[1, 2, 3, 4, 5]\n"
     ]
    }
   ],
   "source": [
    "def remove_duplicates(lst):\n",
    "    return list(set(lst))\n",
    "\n",
    "# Test the function\n",
    "my_list = [1, 2, 2, 3, 4, 4, 5]\n",
    "unique_list = remove_duplicates(my_list)\n",
    "print(unique_list)  # Output: [1, 2, 3, 4, 5]\n"
   ]
  },
  {
   "cell_type": "code",
   "execution_count": null,
   "id": "afc233cc-4a9d-4b7b-9297-7fdbf5ee5be8",
   "metadata": {},
   "outputs": [],
   "source": [
    "21. Find the common elements between two lists."
   ]
  },
  {
   "cell_type": "code",
   "execution_count": 140,
   "id": "31527164-18c6-4279-ab43-8ff4f9444e0a",
   "metadata": {},
   "outputs": [
    {
     "name": "stdout",
     "output_type": "stream",
     "text": [
      "[4, 5]\n"
     ]
    }
   ],
   "source": [
    "def find_common_elements(list1, list2):\n",
    "    set1 = set(list1)\n",
    "    set2 = set(list2)\n",
    "    return list(set1.intersection(set2))\n",
    "\n",
    "# Test the function\n",
    "list1 = [1, 2, 3, 4, 5]\n",
    "list2 = [4, 5, 6, 7, 8]\n",
    "common_elements = find_common_elements(list1, list2)\n",
    "print(common_elements)  # Output: [4, 5]\n"
   ]
  },
  {
   "cell_type": "code",
   "execution_count": null,
   "id": "f8e5583c-8d6b-4d8a-a3e7-a108e7a6a510",
   "metadata": {},
   "outputs": [],
   "source": [
    "22. Find the difference between two lists."
   ]
  },
  {
   "cell_type": "code",
   "execution_count": 141,
   "id": "526915bf-b750-4ed0-b4c0-bd0a4a833b86",
   "metadata": {},
   "outputs": [
    {
     "name": "stdout",
     "output_type": "stream",
     "text": [
      "[1, 2, 3]\n"
     ]
    }
   ],
   "source": [
    "def find_list_difference(list1, list2):\n",
    "    set1 = set(list1)\n",
    "    set2 = set(list2)\n",
    "    return list(set1.difference(set2))\n",
    "\n",
    "# Test the function\n",
    "list1 = [1, 2, 3, 4, 5]\n",
    "list2 = [4, 5, 6, 7, 8]\n",
    "difference = find_list_difference(list1, list2)\n",
    "print(difference)  # Output: [1, 2, 3]\n"
   ]
  },
  {
   "cell_type": "code",
   "execution_count": null,
   "id": "53e46ab1-e902-4f1f-ad98-00f90684f099",
   "metadata": {},
   "outputs": [],
   "source": [
    "23. Merge two lists."
   ]
  },
  {
   "cell_type": "code",
   "execution_count": 142,
   "id": "c804e7b6-a8f1-4547-bca9-b3a3cbb871d2",
   "metadata": {},
   "outputs": [
    {
     "data": {
      "text/plain": [
       "[5, 10, 9, 8, 7, 5, 4, 3, 2, 2, 4, 6, 8, 10, 12, 14, 16, 18, 20]"
      ]
     },
     "execution_count": 142,
     "metadata": {},
     "output_type": "execute_result"
    }
   ],
   "source": [
    "l+l1"
   ]
  },
  {
   "cell_type": "code",
   "execution_count": null,
   "id": "ae681a2b-bbfe-4e77-a0cf-ea3ddd632696",
   "metadata": {},
   "outputs": [],
   "source": [
    "24. Multiply all elements in a list by 2."
   ]
  },
  {
   "cell_type": "code",
   "execution_count": 143,
   "id": "2a71773e-1d68-4a5b-a5a7-8ee02ba30db1",
   "metadata": {},
   "outputs": [
    {
     "data": {
      "text/plain": [
       "[2, 4, 6, 8, 10, 12, 14, 16, 18, 20, 2, 4, 6, 8, 10, 12, 14, 16, 18, 20]"
      ]
     },
     "execution_count": 143,
     "metadata": {},
     "output_type": "execute_result"
    }
   ],
   "source": [
    "l1*2"
   ]
  },
  {
   "cell_type": "code",
   "execution_count": null,
   "id": "13b5e67c-37c2-49c7-8f37-d668974043ba",
   "metadata": {},
   "outputs": [],
   "source": [
    "25. Filter out all even numbers from a list."
   ]
  },
  {
   "cell_type": "code",
   "execution_count": 144,
   "id": "4c4294a0-8535-4c0a-af86-c1849df194f5",
   "metadata": {},
   "outputs": [
    {
     "name": "stdout",
     "output_type": "stream",
     "text": [
      "[1, 3, 5, 7, 9]\n"
     ]
    }
   ],
   "source": [
    "def filter_out_even_numbers(lst):\n",
    "    return [x for x in lst if x % 2 != 0]\n",
    "\n",
    "# Test the function\n",
    "my_list = [1, 2, 3, 4, 5, 6, 7, 8, 9]\n",
    "filtered_list = filter_out_even_numbers(my_list)\n",
    "print(filtered_list)  # Output: [1, 3, 5, 7, 9]\n"
   ]
  },
  {
   "cell_type": "code",
   "execution_count": null,
   "id": "695a2d5c-d74c-45f4-9656-bbf4fed35e98",
   "metadata": {},
   "outputs": [],
   "source": [
    "26. Convert a list of strings to a list of integers."
   ]
  },
  {
   "cell_type": "code",
   "execution_count": 145,
   "id": "b407be87-2239-495f-bd64-2a2c8c1b037f",
   "metadata": {},
   "outputs": [
    {
     "name": "stdout",
     "output_type": "stream",
     "text": [
      "[1, 2, 3, 4, 5]\n"
     ]
    }
   ],
   "source": [
    "def convert_to_integers(lst):\n",
    "    return [int(x) for x in lst]\n",
    "\n",
    "# Test the function\n",
    "string_list = [\"1\", \"2\", \"3\", \"4\", \"5\"]\n",
    "integer_list = convert_to_integers(string_list)\n",
    "print(integer_list)  # Output: [1, 2, 3, 4, 5]\n"
   ]
  },
  {
   "cell_type": "code",
   "execution_count": null,
   "id": "09fe967d-1e33-449e-a56d-fc50835f30b6",
   "metadata": {},
   "outputs": [],
   "source": [
    "27. Convert a list of integers to a list of strings."
   ]
  },
  {
   "cell_type": "code",
   "execution_count": 146,
   "id": "54bec202-392f-413f-9fe3-e07cb865b4d1",
   "metadata": {},
   "outputs": [
    {
     "name": "stdout",
     "output_type": "stream",
     "text": [
      "['1', '2', '3', '4', '5']\n"
     ]
    }
   ],
   "source": [
    "def convert_to_strings(lst):\n",
    "    return [str(x) for x in lst]\n",
    "\n",
    "# Test the function\n",
    "integer_list = [1, 2, 3, 4, 5]\n",
    "string_list = convert_to_strings(integer_list)\n",
    "print(string_list)  # Output: ['1', '2', '3', '4', '5']\n"
   ]
  },
  {
   "cell_type": "code",
   "execution_count": null,
   "id": "6f81b7a8-e053-48fb-bbf7-f8487e767a53",
   "metadata": {},
   "outputs": [],
   "source": [
    "28. Flatten a nested list."
   ]
  },
  {
   "cell_type": "code",
   "execution_count": 148,
   "id": "46355da0-bb73-4b45-9cc3-73a3b1757578",
   "metadata": {},
   "outputs": [
    {
     "name": "stdout",
     "output_type": "stream",
     "text": [
      "[1, 2, 3, 4, 5, 6, 7, 8]\n"
     ]
    }
   ],
   "source": [
    "def flatten_list(nested_list):\n",
    "    flattened_list = []\n",
    "    for i in nested_list:\n",
    "        if isinstance(i, list):\n",
    "            flattened_list.extend(flatten_list(i))\n",
    "        else:\n",
    "            flattened_list.append(i)\n",
    "    return flattened_list\n",
    "\n",
    "# Test the function\n",
    "nested_list = [1, [2, [3, 4], 5], 6, [7, 8]]\n",
    "flat_list = flatten_list(nested_list)\n",
    "print(flat_list)  # Output: [1, 2, 3, 4, 5, 6, 7, 8]\n"
   ]
  },
  {
   "cell_type": "code",
   "execution_count": null,
   "id": "b2cbbb15-f12e-40d7-a5c8-bbca6a4cd18c",
   "metadata": {},
   "outputs": [],
   "source": [
    "29. Create a list of the first 10 Fibonacci numbers."
   ]
  },
  {
   "cell_type": "code",
   "execution_count": 149,
   "id": "bb987e84-7847-4c7e-b270-d2ca2467856d",
   "metadata": {},
   "outputs": [
    {
     "name": "stdout",
     "output_type": "stream",
     "text": [
      "[0, 1, 1, 2, 3, 5, 8, 13, 21, 34]\n"
     ]
    }
   ],
   "source": [
    "def fibonacci_sequence(n):\n",
    "    fibonacci_numbers = [0, 1]\n",
    "    while len(fibonacci_numbers) < n:\n",
    "        fibonacci_numbers.append(fibonacci_numbers[-1] + fibonacci_numbers[-2])\n",
    "    return fibonacci_numbers\n",
    "\n",
    "# Test the function\n",
    "fibonacci_numbers = fibonacci_sequence(10)\n",
    "print(fibonacci_numbers)  # Output: [0, 1, 1, 2, 3, 5, 8, 13, 21, 34]\n"
   ]
  },
  {
   "cell_type": "code",
   "execution_count": null,
   "id": "f42a0b17-43b7-4bdc-93e5-0e4bba6ddcd7",
   "metadata": {},
   "outputs": [],
   "source": [
    "30. Check if a list is sorted."
   ]
  },
  {
   "cell_type": "code",
   "execution_count": 150,
   "id": "d3eb8b5b-320d-4f00-9ade-30b8387c0b8b",
   "metadata": {},
   "outputs": [
    {
     "name": "stdout",
     "output_type": "stream",
     "text": [
      "True\n",
      "False\n"
     ]
    }
   ],
   "source": [
    "def is_sorted(lst):\n",
    "    return all(lst[i] <= lst[i + 1] for i in range(len(lst) - 1))\n",
    "\n",
    "# Test the function\n",
    "sorted_list = [1, 2, 3, 4, 5]\n",
    "unsorted_list = [1, 3, 2, 4, 5]\n",
    "print(is_sorted(sorted_list))  # Output: True\n",
    "print(is_sorted(unsorted_list))  # Output: False\n"
   ]
  },
  {
   "cell_type": "code",
   "execution_count": null,
   "id": "46bcedd3-f843-487e-b6ca-156fab8ab8ce",
   "metadata": {},
   "outputs": [],
   "source": [
    "31. Rotate a list to the left by `n` positions."
   ]
  },
  {
   "cell_type": "code",
   "execution_count": 151,
   "id": "9d061cc0-996b-4ac9-ac32-cf466bbca93d",
   "metadata": {},
   "outputs": [
    {
     "name": "stdout",
     "output_type": "stream",
     "text": [
      "[3, 4, 5, 1, 2]\n"
     ]
    }
   ],
   "source": [
    "def rotate_left(lst, n):\n",
    "    n = n % len(lst)  # Normalize n in case it's larger than the length of the list\n",
    "    return lst[n:] + lst[:n]\n",
    "\n",
    "# Test the function\n",
    "my_list = [1, 2, 3, 4, 5]\n",
    "rotated_list = rotate_left(my_list, 2)\n",
    "print(rotated_list)  # Output: [3, 4, 5, 1, 2]\n"
   ]
  },
  {
   "cell_type": "code",
   "execution_count": null,
   "id": "f2ce7634-cba0-420b-b1f2-f6d19fa9be51",
   "metadata": {},
   "outputs": [],
   "source": [
    "32. Rotate a list to the right by `n` positions."
   ]
  },
  {
   "cell_type": "code",
   "execution_count": 152,
   "id": "81bdb451-c2ea-428d-9b7d-464a49c767b6",
   "metadata": {},
   "outputs": [
    {
     "name": "stdout",
     "output_type": "stream",
     "text": [
      "[4, 5, 1, 2, 3]\n"
     ]
    }
   ],
   "source": [
    "def rotate_right(lst, n):\n",
    "    n = n % len(lst)  # Normalize n in case it's larger than the length of the list\n",
    "    return lst[-n:] + lst[:-n]\n",
    "\n",
    "# Test the function\n",
    "my_list = [1, 2, 3, 4, 5]\n",
    "rotated_list = rotate_right(my_list, 2)\n",
    "print(rotated_list)  # Output: [4, 5, 1, 2, 3]\n"
   ]
  },
  {
   "cell_type": "code",
   "execution_count": null,
   "id": "34eda8ce-e4a0-4c8d-9c42-d2879c0b845c",
   "metadata": {},
   "outputs": [],
   "source": [
    "33. Create a list of prime numbers up to 50."
   ]
  },
  {
   "cell_type": "code",
   "execution_count": 153,
   "id": "16ff2068-093e-47ed-a753-1ec2d7296ed7",
   "metadata": {},
   "outputs": [
    {
     "name": "stdout",
     "output_type": "stream",
     "text": [
      "[2, 3, 5, 7, 11, 13, 17, 19, 23, 29, 31, 37, 41, 43, 47]\n"
     ]
    }
   ],
   "source": [
    "def is_prime(num):\n",
    "    if num < 2:\n",
    "        return False\n",
    "    for i in range(2, int(num**0.5) + 1):\n",
    "        if num % i == 0:\n",
    "            return False\n",
    "    return True\n",
    "\n",
    "prime_numbers = [num for num in range(2, 51) if is_prime(num)]\n",
    "print(prime_numbers)\n"
   ]
  },
  {
   "cell_type": "code",
   "execution_count": null,
   "id": "b7f02ea3-0974-48ba-8619-d43d32673a2c",
   "metadata": {},
   "outputs": [],
   "source": [
    "34. Split a list into chunks of size `n`."
   ]
  },
  {
   "cell_type": "code",
   "execution_count": 154,
   "id": "af32b178-8960-4b61-a52c-928f83cc7fc4",
   "metadata": {},
   "outputs": [
    {
     "name": "stdout",
     "output_type": "stream",
     "text": [
      "[[1, 2, 3], [4, 5, 6], [7, 8, 9], [10]]\n"
     ]
    }
   ],
   "source": [
    "def split_into_chunks(lst, n):\n",
    "    return [lst[i:i + n] for i in range(0, len(lst), n)]\n",
    "\n",
    "# Test the function\n",
    "my_list = [1, 2, 3, 4, 5, 6, 7, 8, 9, 10]\n",
    "chunk_size = 3\n",
    "chunks = split_into_chunks(my_list, chunk_size)\n",
    "print(chunks)\n"
   ]
  },
  {
   "cell_type": "code",
   "execution_count": null,
   "id": "eee8ecb5-b320-43f5-81c2-da5598fd7bf2",
   "metadata": {},
   "outputs": [],
   "source": [
    "35. Find the second largest number in a list."
   ]
  },
  {
   "cell_type": "code",
   "execution_count": 155,
   "id": "c4e994f7-d589-43ee-b644-85a808681d62",
   "metadata": {},
   "outputs": [
    {
     "name": "stdout",
     "output_type": "stream",
     "text": [
      "45\n"
     ]
    }
   ],
   "source": [
    "def second_largest(lst):\n",
    "    sorted_list = sorted(lst, reverse=True)\n",
    "    return sorted_list[1] if len(sorted_list) > 1 else None\n",
    "\n",
    "# Test the function\n",
    "my_list = [10, 20, 4, 45, 99]\n",
    "second_largest_num = second_largest(my_list)\n",
    "print(second_largest_num)  # Output: 45\n"
   ]
  },
  {
   "cell_type": "code",
   "execution_count": null,
   "id": "9c2ba874-392e-4079-8eeb-337232f868b6",
   "metadata": {},
   "outputs": [],
   "source": [
    "36. Replace every element in a list with its square."
   ]
  },
  {
   "cell_type": "code",
   "execution_count": 156,
   "id": "95efead6-87ec-45ad-ba18-06753d1a9742",
   "metadata": {},
   "outputs": [
    {
     "name": "stdout",
     "output_type": "stream",
     "text": [
      "[1, 4, 9, 16, 25]\n"
     ]
    }
   ],
   "source": [
    "def square_elements(lst):\n",
    "    return [x**2 for x in lst]\n",
    "\n",
    "# Test the function\n",
    "my_list = [1, 2, 3, 4, 5]\n",
    "squared_list = square_elements(my_list)\n",
    "print(squared_list)  # Output: [1, 4, 9, 16, 25]\n"
   ]
  },
  {
   "cell_type": "code",
   "execution_count": null,
   "id": "f404e88d-ca7c-4f1c-89c4-ca18dc70fe6a",
   "metadata": {},
   "outputs": [],
   "source": [
    "37. Convert a list to a dictionary where list elements become keys and their\n",
    "indices become values."
   ]
  },
  {
   "cell_type": "code",
   "execution_count": 157,
   "id": "ec5e9db6-8dce-4697-bffd-f1af5f331177",
   "metadata": {},
   "outputs": [
    {
     "name": "stdout",
     "output_type": "stream",
     "text": [
      "{'a': 0, 'b': 1, 'c': 2, 'd': 3, 'e': 4}\n"
     ]
    }
   ],
   "source": [
    "def list_to_dict(lst):\n",
    "    return {value: index for index, value in enumerate(lst)}\n",
    "\n",
    "# Test the function\n",
    "my_list = ['a', 'b', 'c', 'd', 'e']\n",
    "result_dict = list_to_dict(my_list)\n",
    "print(result_dict)\n"
   ]
  },
  {
   "cell_type": "code",
   "execution_count": null,
   "id": "e63910de-9ebe-4fcd-8cd7-12c73aa3f614",
   "metadata": {},
   "outputs": [],
   "source": [
    "38. Shuffle the elements of a list randomly."
   ]
  },
  {
   "cell_type": "code",
   "execution_count": 158,
   "id": "70151dfa-399c-4141-855b-c4596d6b2936",
   "metadata": {},
   "outputs": [
    {
     "name": "stdout",
     "output_type": "stream",
     "text": [
      "[1, 2, 5, 3, 4]\n"
     ]
    }
   ],
   "source": [
    "import random\n",
    "\n",
    "def shuffle_list(lst):\n",
    "    shuffled_lst = lst.copy()\n",
    "    random.shuffle(shuffled_lst)\n",
    "    return shuffled_lst\n",
    "\n",
    "# Test the function\n",
    "my_list = [1, 2, 3, 4, 5]\n",
    "shuffled_list = shuffle_list(my_list)\n",
    "print(shuffled_list)\n"
   ]
  },
  {
   "cell_type": "code",
   "execution_count": null,
   "id": "1833bdb7-811b-4367-9d10-60b8edcdb266",
   "metadata": {},
   "outputs": [],
   "source": [
    "39. Create a list of the first 10 factorial numbers."
   ]
  },
  {
   "cell_type": "code",
   "execution_count": 159,
   "id": "abd95361-07c0-4577-a019-94fec7545ff6",
   "metadata": {},
   "outputs": [
    {
     "name": "stdout",
     "output_type": "stream",
     "text": [
      "[1, 1, 2, 6, 24, 120, 720, 5040, 40320, 362880]\n"
     ]
    }
   ],
   "source": [
    "def factorial(n):\n",
    "    if n == 0:\n",
    "        return 1\n",
    "    return n * factorial(n - 1)\n",
    "\n",
    "factorial_numbers = [factorial(i) for i in range(10)]\n",
    "print(factorial_numbers)\n"
   ]
  },
  {
   "cell_type": "code",
   "execution_count": null,
   "id": "ed2015f2-74fd-4d5d-b3fa-6490d94037ce",
   "metadata": {},
   "outputs": [],
   "source": [
    "40. Check if two lists have at least one element in common."
   ]
  },
  {
   "cell_type": "code",
   "execution_count": 160,
   "id": "57206c59-6aae-4c34-9643-3b812ee8d557",
   "metadata": {},
   "outputs": [
    {
     "name": "stdout",
     "output_type": "stream",
     "text": [
      "False\n",
      "True\n"
     ]
    }
   ],
   "source": [
    "def common_elements(lst1, lst2):\n",
    "    return any(elem in lst1 for elem in lst2)\n",
    "\n",
    "# Test the function\n",
    "list1 = [1, 2, 3, 4, 5]\n",
    "list2 = [6, 7, 8, 9, 10]\n",
    "list3 = [5, 10, 15, 20]\n",
    "print(common_elements(list1, list2))  # Output: False\n",
    "print(common_elements(list1, list3))  # Output: True\n"
   ]
  },
  {
   "cell_type": "code",
   "execution_count": null,
   "id": "a02728e1-0bb4-47c0-ae5b-8f3489725990",
   "metadata": {},
   "outputs": [],
   "source": [
    "41. Remove all elements from a list."
   ]
  },
  {
   "cell_type": "code",
   "execution_count": 161,
   "id": "e042bddc-b847-4540-89ea-e7dadfd0a173",
   "metadata": {},
   "outputs": [
    {
     "name": "stdout",
     "output_type": "stream",
     "text": [
      "[]\n"
     ]
    }
   ],
   "source": [
    "my_list = [1, 2, 3, 4, 5]\n",
    "my_list.clear()\n",
    "print(my_list)  # Output: []\n"
   ]
  },
  {
   "cell_type": "code",
   "execution_count": null,
   "id": "1e5c42cb-e438-494c-a8a6-21101db1b931",
   "metadata": {},
   "outputs": [],
   "source": [
    "42. Replace negative numbers in a list with 0."
   ]
  },
  {
   "cell_type": "code",
   "execution_count": 162,
   "id": "8cd4eb7e-507a-4ff1-ac90-853b3e0bd8aa",
   "metadata": {},
   "outputs": [
    {
     "name": "stdout",
     "output_type": "stream",
     "text": [
      "[1, 0, 3, 0, 5, 0]\n"
     ]
    }
   ],
   "source": [
    "def replace_negative_with_zero(lst):\n",
    "    return [max(0, x) for x in lst]\n",
    "\n",
    "# Test the function\n",
    "my_list = [1, -2, 3, -4, 5, -6]\n",
    "updated_list = replace_negative_with_zero(my_list)\n",
    "print(updated_list)  # Output: [1, 0, 3, 0, 5, 0]\n"
   ]
  },
  {
   "cell_type": "code",
   "execution_count": null,
   "id": "862aa4e9-4976-4ec9-beee-9c5d1e08f735",
   "metadata": {},
   "outputs": [],
   "source": [
    "43. Convert a string into a list of words."
   ]
  },
  {
   "cell_type": "code",
   "execution_count": 163,
   "id": "7ae33bb5-fb54-4fbe-9f4b-41f6c2793ac8",
   "metadata": {},
   "outputs": [
    {
     "name": "stdout",
     "output_type": "stream",
     "text": [
      "['Hello,', 'how', 'are', 'you?']\n"
     ]
    }
   ],
   "source": [
    "def string_to_list_of_words(string):\n",
    "    return string.split()\n",
    "\n",
    "# Test the function\n",
    "my_string = \"Hello, how are you?\"\n",
    "word_list = string_to_list_of_words(my_string)\n",
    "print(word_list)  # Output: ['Hello,', 'how', 'are', 'you?']\n"
   ]
  },
  {
   "cell_type": "code",
   "execution_count": null,
   "id": "630ce2f5-7b6d-4e4c-bf4f-29c54ad5d211",
   "metadata": {},
   "outputs": [],
   "source": [
    "44. Convert a list of words into a string."
   ]
  },
  {
   "cell_type": "code",
   "execution_count": 164,
   "id": "92e77a72-c7f0-4b62-b26e-8b6e33f0bce2",
   "metadata": {},
   "outputs": [
    {
     "name": "stdout",
     "output_type": "stream",
     "text": [
      "Hello, how are you?\n"
     ]
    }
   ],
   "source": [
    "def list_of_words_to_string(word_list):\n",
    "    return ' '.join(word_list)\n",
    "\n",
    "# Test the function\n",
    "my_list = ['Hello,', 'how', 'are', 'you?']\n",
    "string = list_of_words_to_string(my_list)\n",
    "print(string)  # Output: 'Hello, how are you?'\n"
   ]
  },
  {
   "cell_type": "code",
   "execution_count": null,
   "id": "574d722c-faf2-4a4f-bd42-115f7915a74c",
   "metadata": {},
   "outputs": [],
   "source": [
    "45. Create a list of the first `n` powers of 2."
   ]
  },
  {
   "cell_type": "code",
   "execution_count": 165,
   "id": "91cae921-0b74-4086-b5db-270d39d2feaf",
   "metadata": {},
   "outputs": [
    {
     "name": "stdout",
     "output_type": "stream",
     "text": [
      "[1, 2, 4, 8, 16]\n"
     ]
    }
   ],
   "source": [
    "def powers_of_2(n):\n",
    "    return [2**i for i in range(n)]\n",
    "\n",
    "# Test the function\n",
    "n = 5\n",
    "powers_list = powers_of_2(n)\n",
    "print(powers_list)  # Output: [1, 2, 4, 8, 16]\n"
   ]
  },
  {
   "cell_type": "code",
   "execution_count": null,
   "id": "627772ac-c2e0-436b-8508-fc20e46d5a48",
   "metadata": {},
   "outputs": [],
   "source": [
    "46. Find the longest string in a list of strings."
   ]
  },
  {
   "cell_type": "code",
   "execution_count": 166,
   "id": "3326d586-d8c3-45b8-84f5-e17f72bb499f",
   "metadata": {},
   "outputs": [
    {
     "name": "stdout",
     "output_type": "stream",
     "text": [
      "banana\n"
     ]
    }
   ],
   "source": [
    "def longest_string(lst):\n",
    "    return max(lst, key=len)\n",
    "\n",
    "# Test the function\n",
    "my_list = [\"apple\", \"banana\", \"orange\", \"kiwi\"]\n",
    "longest = longest_string(my_list)\n",
    "print(longest)  # Output: \"banana\"\n"
   ]
  },
  {
   "cell_type": "code",
   "execution_count": null,
   "id": "21aabb86-a307-4906-be43-0f07f33ed8cb",
   "metadata": {},
   "outputs": [],
   "source": [
    "47. Find the shortest string in a list of strings."
   ]
  },
  {
   "cell_type": "code",
   "execution_count": 167,
   "id": "4b79b167-1059-4f89-9340-3f760db52216",
   "metadata": {},
   "outputs": [
    {
     "name": "stdout",
     "output_type": "stream",
     "text": [
      "kiwi\n"
     ]
    }
   ],
   "source": [
    "def shortest_string(lst):\n",
    "    return min(lst, key=len)\n",
    "\n",
    "# Test the function\n",
    "my_list = [\"apple\", \"banana\", \"orange\", \"kiwi\"]\n",
    "shortest = shortest_string(my_list)\n",
    "print(shortest)  # Output: \"kiwi\"\n"
   ]
  },
  {
   "cell_type": "code",
   "execution_count": null,
   "id": "60423b8d-6e06-486f-bc03-4485778c79d6",
   "metadata": {},
   "outputs": [],
   "source": [
    "48. Create a list of the first `n` triangular numbers."
   ]
  },
  {
   "cell_type": "code",
   "execution_count": 168,
   "id": "3089535c-219a-4662-ab0b-9fb754217c72",
   "metadata": {},
   "outputs": [
    {
     "name": "stdout",
     "output_type": "stream",
     "text": [
      "[1, 3, 6, 10, 15]\n"
     ]
    }
   ],
   "source": [
    "def triangular_numbers(n):\n",
    "    return [i * (i + 1) // 2 for i in range(1, n + 1)]\n",
    "\n",
    "# Test the function\n",
    "n = 5\n",
    "triangular_list = triangular_numbers(n)\n",
    "print(triangular_list)  # Output: [1, 3, 6, 10, 15]\n"
   ]
  },
  {
   "cell_type": "code",
   "execution_count": null,
   "id": "bba46eb4-008a-4f5a-ba8e-9e4d870a97ca",
   "metadata": {},
   "outputs": [],
   "source": [
    "49. Check if a list contains another list as a subsequence."
   ]
  },
  {
   "cell_type": "code",
   "execution_count": 169,
   "id": "f8fd8b6b-edbb-4427-824c-19246fd1185f",
   "metadata": {},
   "outputs": [
    {
     "name": "stdout",
     "output_type": "stream",
     "text": [
      "True\n",
      "True\n"
     ]
    }
   ],
   "source": [
    "def is_subsequence(sub, lst):\n",
    "    i, j = 0, 0\n",
    "    while i < len(sub) and j < len(lst):\n",
    "        if sub[i] == lst[j]:\n",
    "            i += 1\n",
    "        j += 1\n",
    "    return i == len(sub)\n",
    "\n",
    "# Test the function\n",
    "main_list = [1, 2, 3, 4, 5, 6, 7, 8, 9]\n",
    "sub_list1 = [2, 4, 6]\n",
    "sub_list2 = [2, 5, 6]\n",
    "print(is_subsequence(sub_list1, main_list))  # Output: True\n",
    "print(is_subsequence(sub_list2, main_list))  # Output: False\n"
   ]
  },
  {
   "cell_type": "code",
   "execution_count": null,
   "id": "4f80dcb7-e18f-4f9a-baa1-1b4b474596b7",
   "metadata": {},
   "outputs": [],
   "source": [
    "50. Swap two elements in a list by their indices."
   ]
  },
  {
   "cell_type": "code",
   "execution_count": 170,
   "id": "b4aa5ae2-d9cc-42c9-baf3-bcc5728ccaa5",
   "metadata": {},
   "outputs": [
    {
     "name": "stdout",
     "output_type": "stream",
     "text": [
      "[1, 4, 3, 2, 5]\n"
     ]
    }
   ],
   "source": [
    "def swap_elements(lst, idx1, idx2):\n",
    "    lst[idx1], lst[idx2] = lst[idx2], lst[idx1]\n",
    "    return lst\n",
    "\n",
    "# Test the function\n",
    "my_list = [1, 2, 3, 4, 5]\n",
    "swap_elements(my_list, 1, 3)\n",
    "print(my_list)  # Output: [1, 4, 3, 2, 5]\n"
   ]
  },
  {
   "cell_type": "markdown",
   "id": "7467f3b8-94f8-4a1e-88a3-f85d3587bacf",
   "metadata": {},
   "source": [
    "TUPLE BASED QUESTION\n"
   ]
  },
  {
   "cell_type": "code",
   "execution_count": null,
   "id": "c8f4461d-eeff-4d79-90c6-36de6ebf85e3",
   "metadata": {},
   "outputs": [],
   "source": [
    "1. Create a tuple with integers from 1 to 5."
   ]
  },
  {
   "cell_type": "code",
   "execution_count": 171,
   "id": "fb464cf1-74b3-426d-ab88-6f9533c5c04c",
   "metadata": {},
   "outputs": [],
   "source": [
    "t=(1,2,3,4,5)"
   ]
  },
  {
   "cell_type": "code",
   "execution_count": 172,
   "id": "9379ede6-2189-4fd2-9dc0-436d01c031a1",
   "metadata": {},
   "outputs": [
    {
     "data": {
      "text/plain": [
       "(1, 2, 3, 4, 5)"
      ]
     },
     "execution_count": 172,
     "metadata": {},
     "output_type": "execute_result"
    }
   ],
   "source": [
    "t"
   ]
  },
  {
   "cell_type": "code",
   "execution_count": null,
   "id": "ebd4faba-211c-4cbe-a57d-b9d0029e3ca4",
   "metadata": {},
   "outputs": [],
   "source": [
    "2. Access the third element of a tuple."
   ]
  },
  {
   "cell_type": "code",
   "execution_count": 173,
   "id": "f829425c-5648-4f96-af9b-4dcb13dbca1f",
   "metadata": {},
   "outputs": [
    {
     "data": {
      "text/plain": [
       "4"
      ]
     },
     "execution_count": 173,
     "metadata": {},
     "output_type": "execute_result"
    }
   ],
   "source": [
    "t[3]"
   ]
  },
  {
   "cell_type": "code",
   "execution_count": null,
   "id": "5f1db6f6-11ef-4a45-956f-1f28de123447",
   "metadata": {},
   "outputs": [],
   "source": [
    "3. Find the length of a tuple without using the `len()` function."
   ]
  },
  {
   "cell_type": "code",
   "execution_count": 174,
   "id": "cbc193ad-4b43-419e-9e00-4d94999ae012",
   "metadata": {},
   "outputs": [
    {
     "name": "stdout",
     "output_type": "stream",
     "text": [
      "5\n"
     ]
    }
   ],
   "source": [
    "def tuple_length(tup):\n",
    "    count = 0\n",
    "    for _ in tup:\n",
    "        count += 1\n",
    "    return count\n",
    "\n",
    "# Test the function\n",
    "my_tuple = (1, 2, 3, 4, 5)\n",
    "length = tuple_length(my_tuple)\n",
    "print(length)  # Output: 5\n"
   ]
  },
  {
   "cell_type": "code",
   "execution_count": null,
   "id": "7a5cd9e0-0a4f-4796-971f-971df3fa581a",
   "metadata": {},
   "outputs": [],
   "source": [
    "4. Count the occurrences of an element in a tuple."
   ]
  },
  {
   "cell_type": "code",
   "execution_count": 175,
   "id": "3836f1a4-70a5-49eb-9f43-abf3943a977e",
   "metadata": {},
   "outputs": [
    {
     "name": "stdout",
     "output_type": "stream",
     "text": [
      "3\n"
     ]
    }
   ],
   "source": [
    "def count_occurrences(tup, element):\n",
    "    count = 0\n",
    "    for item in tup:\n",
    "        if item == element:\n",
    "            count += 1\n",
    "    return count\n",
    "\n",
    "# Test the function\n",
    "my_tuple = (1, 2, 2, 3, 4, 2, 5)\n",
    "element = 2\n",
    "occurrences = count_occurrences(my_tuple, element)\n",
    "print(occurrences)  # Output: 3\n"
   ]
  },
  {
   "cell_type": "code",
   "execution_count": null,
   "id": "813ed7bf-1f78-4540-b06c-6527eb832649",
   "metadata": {},
   "outputs": [],
   "source": [
    "5. Find the index of the first occurrence of an element in a tuple."
   ]
  },
  {
   "cell_type": "code",
   "execution_count": 176,
   "id": "09ab1741-b0a6-4e32-aa67-b5f666213e78",
   "metadata": {},
   "outputs": [
    {
     "name": "stdout",
     "output_type": "stream",
     "text": [
      "4\n"
     ]
    }
   ],
   "source": [
    "def find_index(tup, element):\n",
    "    return tup.index(element)\n",
    "\n",
    "# Test the function\n",
    "my_tuple = (1, 2, 3, 4, 5, 6, 7, 8, 9)\n",
    "element = 5\n",
    "index = find_index(my_tuple, element)\n",
    "print(index)  # Output: 4\n"
   ]
  },
  {
   "cell_type": "code",
   "execution_count": null,
   "id": "972042e4-bd38-4d2f-9def-d1f185b1eb3e",
   "metadata": {},
   "outputs": [],
   "source": [
    "6. Check if an element exists in a tuple."
   ]
  },
  {
   "cell_type": "code",
   "execution_count": 177,
   "id": "1b1a5e6e-b31e-4143-b84f-07e0217812da",
   "metadata": {},
   "outputs": [
    {
     "name": "stdout",
     "output_type": "stream",
     "text": [
      "True\n"
     ]
    }
   ],
   "source": [
    "def element_exists(tup, element):\n",
    "    return element in tup\n",
    "\n",
    "# Test the function\n",
    "my_tuple = (1, 2, 3, 4, 5)\n",
    "element = 3\n",
    "exists = element_exists(my_tuple, element)\n",
    "print(exists)  # Output: True\n"
   ]
  },
  {
   "cell_type": "code",
   "execution_count": null,
   "id": "2ed864a5-d626-4f90-9cfd-0edfc4418486",
   "metadata": {},
   "outputs": [],
   "source": [
    "7. Convert a tuple to a list."
   ]
  },
  {
   "cell_type": "code",
   "execution_count": 178,
   "id": "8b79c782-199c-4c9d-8f78-34b84dba1f29",
   "metadata": {},
   "outputs": [],
   "source": [
    "l=[t]"
   ]
  },
  {
   "cell_type": "code",
   "execution_count": 179,
   "id": "10b45ecd-4705-4ffa-99d6-6e76c3cd5e4e",
   "metadata": {},
   "outputs": [
    {
     "data": {
      "text/plain": [
       "[(1, 2, 3, 4, 5)]"
      ]
     },
     "execution_count": 179,
     "metadata": {},
     "output_type": "execute_result"
    }
   ],
   "source": [
    "l"
   ]
  },
  {
   "cell_type": "code",
   "execution_count": null,
   "id": "47815c97-e681-4aee-b767-8cee857fe4db",
   "metadata": {},
   "outputs": [],
   "source": [
    "8. Convert a list to a tuple."
   ]
  },
  {
   "cell_type": "code",
   "execution_count": 180,
   "id": "5cea623c-3628-4f28-a7ba-a281cf49baea",
   "metadata": {},
   "outputs": [
    {
     "data": {
      "text/plain": [
       "[2, 4, 6, 8, 10, 12, 14, 16, 18, 20]"
      ]
     },
     "execution_count": 180,
     "metadata": {},
     "output_type": "execute_result"
    }
   ],
   "source": [
    "l1"
   ]
  },
  {
   "cell_type": "code",
   "execution_count": 184,
   "id": "47d41133-e8d9-42b4-8cab-a6bfa032f321",
   "metadata": {},
   "outputs": [],
   "source": [
    "t=[l1]"
   ]
  },
  {
   "cell_type": "code",
   "execution_count": 185,
   "id": "d2161736-b519-43a5-a8a0-3dde570550ab",
   "metadata": {},
   "outputs": [
    {
     "data": {
      "text/plain": [
       "[[2, 4, 6, 8, 10, 12, 14, 16, 18, 20]]"
      ]
     },
     "execution_count": 185,
     "metadata": {},
     "output_type": "execute_result"
    }
   ],
   "source": [
    "t"
   ]
  },
  {
   "cell_type": "code",
   "execution_count": null,
   "id": "ad358f91-6d27-43c2-9c87-c53663069651",
   "metadata": {},
   "outputs": [],
   "source": [
    "9. Unpack the elements of a tuple into variables."
   ]
  },
  {
   "cell_type": "code",
   "execution_count": 186,
   "id": "20fc9962-891e-4278-9ab2-58fee859119a",
   "metadata": {},
   "outputs": [
    {
     "name": "stdout",
     "output_type": "stream",
     "text": [
      "1\n",
      "2\n",
      "3\n"
     ]
    }
   ],
   "source": [
    "my_tuple = (1, 2, 3)\n",
    "a, b, c = my_tuple\n",
    "\n",
    "print(a)  # Output: 1\n",
    "print(b)  # Output: 2\n",
    "print(c)  # Output: 3\n"
   ]
  },
  {
   "cell_type": "code",
   "execution_count": null,
   "id": "da2a4a78-23cf-440e-afff-11c040878a9b",
   "metadata": {},
   "outputs": [],
   "source": [
    "10. Create a tuple of even numbers from 1 to 10."
   ]
  },
  {
   "cell_type": "code",
   "execution_count": 187,
   "id": "75ca0ce0-b638-4d20-a425-d0962c4b90ce",
   "metadata": {},
   "outputs": [
    {
     "name": "stdout",
     "output_type": "stream",
     "text": [
      "(2, 4, 6, 8, 10)\n"
     ]
    }
   ],
   "source": [
    "even_numbers = tuple(x for x in range(1, 11) if x % 2 == 0)\n",
    "print(even_numbers)  # Output: (2, 4, 6, 8, 10)\n"
   ]
  },
  {
   "cell_type": "code",
   "execution_count": null,
   "id": "23c62024-5a34-4384-b118-b0296856b4fd",
   "metadata": {},
   "outputs": [],
   "source": [
    "11. Create a tuple of odd numbers from 1 to 10."
   ]
  },
  {
   "cell_type": "code",
   "execution_count": 188,
   "id": "38059880-5942-4045-a160-559d5d9ede4d",
   "metadata": {},
   "outputs": [
    {
     "name": "stdout",
     "output_type": "stream",
     "text": [
      "(1, 3, 5, 7, 9)\n"
     ]
    }
   ],
   "source": [
    "odd_numbers = tuple(x for x in range(1, 11) if x % 2 != 0)\n",
    "print(odd_numbers)  # Output: (1, 3, 5, 7, 9)\n",
    "\n"
   ]
  },
  {
   "cell_type": "code",
   "execution_count": null,
   "id": "7d108037-9bc0-434b-b775-4d40a95cf702",
   "metadata": {},
   "outputs": [],
   "source": [
    "12. Concatenate two tuples."
   ]
  },
  {
   "cell_type": "code",
   "execution_count": 189,
   "id": "78b26d5e-e47f-4332-91ee-a4069f370ee3",
   "metadata": {},
   "outputs": [
    {
     "name": "stdout",
     "output_type": "stream",
     "text": [
      "(1, 2, 3, 4, 5, 6)\n"
     ]
    }
   ],
   "source": [
    "tuple1 = (1, 2, 3)\n",
    "tuple2 = (4, 5, 6)\n",
    "concatenated_tuple = tuple1 + tuple2\n",
    "print(concatenated_tuple)  # Output: (1, 2, 3, 4, 5, 6)\n"
   ]
  },
  {
   "cell_type": "code",
   "execution_count": null,
   "id": "49424fdf-7cf1-49af-aec7-54385ea76ae8",
   "metadata": {},
   "outputs": [],
   "source": [
    "13. Repeat a tuple three times."
   ]
  },
  {
   "cell_type": "code",
   "execution_count": 193,
   "id": "f092dd31-f495-4264-8b97-0c82e18bdbaf",
   "metadata": {},
   "outputs": [],
   "source": [
    "t1=(2,4,5,6,9)"
   ]
  },
  {
   "cell_type": "code",
   "execution_count": 194,
   "id": "5bd81bf1-44d4-434d-80a6-1620a7383a3d",
   "metadata": {},
   "outputs": [
    {
     "data": {
      "text/plain": [
       "(2, 4, 5, 6, 9, 2, 4, 5, 6, 9, 2, 4, 5, 6, 9)"
      ]
     },
     "execution_count": 194,
     "metadata": {},
     "output_type": "execute_result"
    }
   ],
   "source": [
    "t1*3"
   ]
  },
  {
   "cell_type": "code",
   "execution_count": null,
   "id": "7d0a0c7e-8b34-4d7a-a583-a323ea8454c5",
   "metadata": {},
   "outputs": [],
   "source": [
    "14. Check if a tuple is empty."
   ]
  },
  {
   "cell_type": "code",
   "execution_count": 195,
   "id": "1ef9c212-2618-463a-aee7-b86912ae46f9",
   "metadata": {},
   "outputs": [
    {
     "name": "stdout",
     "output_type": "stream",
     "text": [
      "True\n",
      "False\n"
     ]
    }
   ],
   "source": [
    "def is_empty(tup):\n",
    "    return not tup\n",
    "\n",
    "# Test the function\n",
    "empty_tuple = ()\n",
    "non_empty_tuple = (1, 2, 3)\n",
    "print(is_empty(empty_tuple))  # Output: True\n",
    "print(is_empty(non_empty_tuple))  # Output: False\n"
   ]
  },
  {
   "cell_type": "code",
   "execution_count": null,
   "id": "340b88cc-f6b1-442d-806b-40b017b03b98",
   "metadata": {},
   "outputs": [],
   "source": [
    "15. Create a nested tuple."
   ]
  },
  {
   "cell_type": "code",
   "execution_count": 196,
   "id": "8668f359-32d1-4b5b-b51f-4e3e1e84e316",
   "metadata": {},
   "outputs": [
    {
     "name": "stdout",
     "output_type": "stream",
     "text": [
      "((1, 2, 3), (4, 5, 6), (7, 8, 9))\n"
     ]
    }
   ],
   "source": [
    "nested_tuple = ((1, 2, 3), (4, 5, 6), (7, 8, 9))\n",
    "print(nested_tuple)\n"
   ]
  },
  {
   "cell_type": "code",
   "execution_count": null,
   "id": "32c64d6e-cec3-42a5-87dc-da24c8ef465d",
   "metadata": {},
   "outputs": [],
   "source": [
    "16. Access the first element of a nested tuple."
   ]
  },
  {
   "cell_type": "code",
   "execution_count": 197,
   "id": "7167d570-ad9b-4e09-91b1-fbf46611ce54",
   "metadata": {},
   "outputs": [
    {
     "name": "stdout",
     "output_type": "stream",
     "text": [
      "1\n"
     ]
    }
   ],
   "source": [
    "nested_tuple = ((1, 2, 3), (4, 5, 6), (7, 8, 9))\n",
    "first_element = nested_tuple[0][0]\n",
    "print(first_element)  # Output: 1\n"
   ]
  },
  {
   "cell_type": "code",
   "execution_count": null,
   "id": "15e1102f-174d-4c5a-929c-98f86a613bc6",
   "metadata": {},
   "outputs": [],
   "source": [
    "17. Create a tuple with a single element."
   ]
  },
  {
   "cell_type": "code",
   "execution_count": 198,
   "id": "be0f9463-f161-4ca2-a751-945f044e82bd",
   "metadata": {},
   "outputs": [
    {
     "name": "stdout",
     "output_type": "stream",
     "text": [
      "(1,)\n"
     ]
    }
   ],
   "source": [
    "single_element_tuple = (1,)\n",
    "print(single_element_tuple)  # Output: (1,)\n"
   ]
  },
  {
   "cell_type": "code",
   "execution_count": null,
   "id": "aa91b7c3-fada-4c72-a9c9-34f8e5f6afaf",
   "metadata": {},
   "outputs": [],
   "source": [
    "18. Compare two tuples."
   ]
  },
  {
   "cell_type": "code",
   "execution_count": 199,
   "id": "def4381f-3808-4674-a90e-17d34d0c12f7",
   "metadata": {},
   "outputs": [
    {
     "name": "stdout",
     "output_type": "stream",
     "text": [
      "False\n",
      "True\n",
      "False\n",
      "True\n"
     ]
    }
   ],
   "source": [
    "tuple1 = (1, 2, 3)\n",
    "tuple2 = (1, 2, 4)\n",
    "\n",
    "# Compare for equality\n",
    "print(tuple1 == tuple2)  # Output: False\n",
    "\n",
    "# Compare for inequality\n",
    "print(tuple1 != tuple2)  # Output: True\n",
    "\n",
    "# Compare for greater than\n",
    "print(tuple1 > tuple2)   # Output: False\n",
    "\n",
    "# Compare for less than\n",
    "print(tuple1 < tuple2)   # Output: True\n"
   ]
  },
  {
   "cell_type": "code",
   "execution_count": null,
   "id": "8a39b93b-d002-4e21-a950-8f0e2a255138",
   "metadata": {},
   "outputs": [],
   "source": [
    "19. Delete a tuple."
   ]
  },
  {
   "cell_type": "code",
   "execution_count": 202,
   "id": "932bcf73-5d06-4127-ab58-7229af849499",
   "metadata": {},
   "outputs": [],
   "source": [
    "t2=(98,67,45,63)"
   ]
  },
  {
   "cell_type": "code",
   "execution_count": 205,
   "id": "901e4b63-d0e7-4226-b999-568725328df8",
   "metadata": {},
   "outputs": [],
   "source": [
    "del t2"
   ]
  },
  {
   "cell_type": "code",
   "execution_count": 206,
   "id": "5c653164-e6f6-4c92-b7e8-db8a576b0353",
   "metadata": {},
   "outputs": [
    {
     "ename": "NameError",
     "evalue": "name 't2' is not defined",
     "output_type": "error",
     "traceback": [
      "\u001b[0;31m---------------------------------------------------------------------------\u001b[0m",
      "\u001b[0;31mNameError\u001b[0m                                 Traceback (most recent call last)",
      "Cell \u001b[0;32mIn[206], line 1\u001b[0m\n\u001b[0;32m----> 1\u001b[0m \u001b[43mt2\u001b[49m\n",
      "\u001b[0;31mNameError\u001b[0m: name 't2' is not defined"
     ]
    }
   ],
   "source": [
    "t2"
   ]
  },
  {
   "cell_type": "code",
   "execution_count": null,
   "id": "50d208b1-146d-4ff3-942c-ebd01b3fd094",
   "metadata": {},
   "outputs": [],
   "source": [
    "20. Slice a tuple."
   ]
  },
  {
   "cell_type": "code",
   "execution_count": 207,
   "id": "b0d5e48d-c31b-4eef-a2aa-1e2b6b86c218",
   "metadata": {},
   "outputs": [
    {
     "name": "stdout",
     "output_type": "stream",
     "text": [
      "(2, 3, 4)\n"
     ]
    }
   ],
   "source": [
    "my_tuple = (1, 2, 3, 4, 5)\n",
    "slice_tuple = my_tuple[1:4]\n",
    "print(slice_tuple)  # Output: (2, 3, 4)\n"
   ]
  },
  {
   "cell_type": "code",
   "execution_count": null,
   "id": "574358fa-eefb-460b-88e8-a8a7f19e1f0c",
   "metadata": {},
   "outputs": [],
   "source": [
    "21. Find the maximum value in a tuple."
   ]
  },
  {
   "cell_type": "code",
   "execution_count": 208,
   "id": "0da754ce-381f-488d-bae0-fc98d33b090d",
   "metadata": {},
   "outputs": [
    {
     "name": "stdout",
     "output_type": "stream",
     "text": [
      "50\n"
     ]
    }
   ],
   "source": [
    "my_tuple = (10, 20, 30, 40, 50)\n",
    "max_value = max(my_tuple)\n",
    "print(max_value)  # Output: 50\n",
    "\n"
   ]
  },
  {
   "cell_type": "code",
   "execution_count": null,
   "id": "6e755c8a-179a-43f7-86b5-551392f50313",
   "metadata": {},
   "outputs": [],
   "source": [
    "22. Find the minimum value in a tuple."
   ]
  },
  {
   "cell_type": "code",
   "execution_count": 209,
   "id": "7facbc41-5309-4229-8197-014c221bd9f5",
   "metadata": {},
   "outputs": [
    {
     "name": "stdout",
     "output_type": "stream",
     "text": [
      "10\n"
     ]
    }
   ],
   "source": [
    "my_tuple = (10, 20, 30, 40, 50)\n",
    "min_value = min(my_tuple)\n",
    "print(min_value)  # Output: 10\n"
   ]
  },
  {
   "cell_type": "code",
   "execution_count": null,
   "id": "8608caf4-c0e2-4b7f-8455-22d0d4799081",
   "metadata": {},
   "outputs": [],
   "source": [
    "23. Convert a string to a tuple of characters."
   ]
  },
  {
   "cell_type": "code",
   "execution_count": 210,
   "id": "00bb1891-15f2-4b34-a7a4-edc61eddbbfd",
   "metadata": {},
   "outputs": [
    {
     "name": "stdout",
     "output_type": "stream",
     "text": [
      "('h', 'e', 'l', 'l', 'o')\n"
     ]
    }
   ],
   "source": [
    "my_string = \"hello\"\n",
    "char_tuple = tuple(my_string)\n",
    "print(char_tuple)  # Output: ('h', 'e', 'l', 'l', 'o')\n"
   ]
  },
  {
   "cell_type": "code",
   "execution_count": null,
   "id": "27b218cd-7f5d-4982-9c29-c66810ba8674",
   "metadata": {},
   "outputs": [],
   "source": [
    "24. Convert a tuple of characters to a string."
   ]
  },
  {
   "cell_type": "code",
   "execution_count": 211,
   "id": "e025e6c7-4e4e-4558-99ea-6ce82d7ccd99",
   "metadata": {},
   "outputs": [
    {
     "name": "stdout",
     "output_type": "stream",
     "text": [
      "hello\n"
     ]
    }
   ],
   "source": [
    "char_tuple = ('h', 'e', 'l', 'l', 'o')\n",
    "my_string = ''.join(char_tuple)\n",
    "print(my_string)  # Output: \"hello\"\n",
    "\n"
   ]
  },
  {
   "cell_type": "code",
   "execution_count": null,
   "id": "b1af457d-481d-4cd7-a46e-236edf970a19",
   "metadata": {},
   "outputs": [],
   "source": [
    "25. Create a tuple from multiple data types."
   ]
  },
  {
   "cell_type": "code",
   "execution_count": 212,
   "id": "2799cc4d-6b73-47d7-887d-ff4241734ead",
   "metadata": {},
   "outputs": [
    {
     "name": "stdout",
     "output_type": "stream",
     "text": [
      "(1, 'hello', 3.14, True)\n"
     ]
    }
   ],
   "source": [
    "mixed_tuple = (1, 'hello', 3.14, True)\n",
    "print(mixed_tuple)  # Output: (1, 'hello', 3.14, True)\n"
   ]
  },
  {
   "cell_type": "code",
   "execution_count": null,
   "id": "f905b675-224f-4a33-b656-d00d3561a24b",
   "metadata": {},
   "outputs": [],
   "source": [
    "26. Check if two tuples are identical."
   ]
  },
  {
   "cell_type": "code",
   "execution_count": 213,
   "id": "d81ed8bb-b90e-4031-89b0-a76bcadea976",
   "metadata": {},
   "outputs": [
    {
     "name": "stdout",
     "output_type": "stream",
     "text": [
      "Tuples are identical\n"
     ]
    }
   ],
   "source": [
    "tuple1 = (1, 2, 3)\n",
    "tuple2 = (1, 2, 3)\n",
    "\n",
    "if tuple1 == tuple2:\n",
    "    print(\"Tuples are identical\")\n",
    "else:\n",
    "    print(\"Tuples are not identical\")\n"
   ]
  },
  {
   "cell_type": "code",
   "execution_count": null,
   "id": "117c31dd-5ae6-4514-bc2a-bc7b581c8575",
   "metadata": {},
   "outputs": [],
   "source": [
    "27. Sort the elements of a tuple."
   ]
  },
  {
   "cell_type": "code",
   "execution_count": 214,
   "id": "e503472c-4f98-4eb5-8468-38a74f16119b",
   "metadata": {},
   "outputs": [
    {
     "name": "stdout",
     "output_type": "stream",
     "text": [
      "(1, 2, 3, 4, 5)\n"
     ]
    }
   ],
   "source": [
    "my_tuple = (4, 2, 1, 3, 5)\n",
    "sorted_tuple = tuple(sorted(my_tuple))\n",
    "print(sorted_tuple)  # Output: (1, 2, 3, 4, 5)\n"
   ]
  },
  {
   "cell_type": "code",
   "execution_count": null,
   "id": "c11e2403-b28a-4192-9d29-cdcd6d2b68e0",
   "metadata": {},
   "outputs": [],
   "source": [
    "28. Convert a tuple of integers to a tuple of strings."
   ]
  },
  {
   "cell_type": "code",
   "execution_count": 215,
   "id": "45099bcc-6155-4b7d-8ba6-f2f7ed0590dc",
   "metadata": {},
   "outputs": [
    {
     "name": "stdout",
     "output_type": "stream",
     "text": [
      "('1', '2', '3', '4', '5')\n"
     ]
    }
   ],
   "source": [
    "tuple_of_integers = (1, 2, 3, 4, 5)\n",
    "tuple_of_strings = tuple(str(x) for x in tuple_of_integers)\n",
    "print(tuple_of_strings)  # Output: ('1', '2', '3', '4', '5')\n"
   ]
  },
  {
   "cell_type": "code",
   "execution_count": null,
   "id": "8922b30c-bccb-45ae-ac32-0fe41fc76ebb",
   "metadata": {},
   "outputs": [],
   "source": [
    "29. Convert a tuple of strings to a tuple of integers."
   ]
  },
  {
   "cell_type": "code",
   "execution_count": 216,
   "id": "32a18210-d286-4df5-a045-0c702aa38a9e",
   "metadata": {},
   "outputs": [
    {
     "name": "stdout",
     "output_type": "stream",
     "text": [
      "(1, 2, 3, 4, 5)\n"
     ]
    }
   ],
   "source": [
    "tuple_of_strings = ('1', '2', '3', '4', '5')\n",
    "tuple_of_integers = tuple(int(x) for x in tuple_of_strings)\n",
    "print(tuple_of_integers)  # Output: (1, 2, 3, 4, 5)\n"
   ]
  },
  {
   "cell_type": "code",
   "execution_count": null,
   "id": "c45f1277-8580-4549-8112-254dbcf6f3d1",
   "metadata": {},
   "outputs": [],
   "source": [
    "30. Merge two tuples."
   ]
  },
  {
   "cell_type": "code",
   "execution_count": 217,
   "id": "2832cd50-5db6-4be2-9037-dbdf3c14a119",
   "metadata": {},
   "outputs": [
    {
     "name": "stdout",
     "output_type": "stream",
     "text": [
      "(1, 2, 3, 4, 5, 6)\n"
     ]
    }
   ],
   "source": [
    "tuple1 = (1, 2, 3)\n",
    "tuple2 = (4, 5, 6)\n",
    "merged_tuple = tuple1 + tuple2\n",
    "print(merged_tuple)  # Output: (1, 2, 3, 4, 5, 6)\n"
   ]
  },
  {
   "cell_type": "code",
   "execution_count": null,
   "id": "d5d1e966-2b31-4d85-bea5-b7d4d7fb90c2",
   "metadata": {},
   "outputs": [],
   "source": [
    "31. Flatten a nested tuple."
   ]
  },
  {
   "cell_type": "code",
   "execution_count": 218,
   "id": "aa8b904f-a183-40ba-be07-9c379cc5bc1d",
   "metadata": {},
   "outputs": [
    {
     "name": "stdout",
     "output_type": "stream",
     "text": [
      "(1, 2, 3, 4, 5, 6, 7, 8, 9, 10)\n"
     ]
    }
   ],
   "source": [
    "def flatten_tuple(nested_tuple):\n",
    "    flattened = []\n",
    "    for item in nested_tuple:\n",
    "        if isinstance(item, tuple):\n",
    "            flattened.extend(flatten_tuple(item))\n",
    "        else:\n",
    "            flattened.append(item)\n",
    "    return tuple(flattened)\n",
    "\n",
    "# Test the function\n",
    "nested_tuple = ((1, 2, 3), (4, (5, 6), 7), 8, (9, 10))\n",
    "flattened_tuple = flatten_tuple(nested_tuple)\n",
    "print(flattened_tuple)  # Output: (1, 2, 3, 4, 5, 6, 7, 8, 9, 10)\n"
   ]
  },
  {
   "cell_type": "code",
   "execution_count": null,
   "id": "9f2d8209-e034-490e-920b-3f4770eaaa7f",
   "metadata": {},
   "outputs": [],
   "source": [
    "32. Create a tuple of the first 5 prime numbers."
   ]
  },
  {
   "cell_type": "code",
   "execution_count": 219,
   "id": "8b67b134-69b2-41eb-ace1-abb6f0fc8ec4",
   "metadata": {},
   "outputs": [
    {
     "name": "stdout",
     "output_type": "stream",
     "text": [
      "(2, 3, 5, 7, 11)\n"
     ]
    }
   ],
   "source": [
    "def is_prime(n):\n",
    "    if n <= 1:\n",
    "        return False\n",
    "    for i in range(2, int(n ** 0.5) + 1):\n",
    "        if n % i == 0:\n",
    "            return False\n",
    "    return True\n",
    "\n",
    "def first_n_primes(n):\n",
    "    primes = []\n",
    "    num = 2\n",
    "    while len(primes) < n:\n",
    "        if is_prime(num):\n",
    "            primes.append(num)\n",
    "        num += 1\n",
    "    return tuple(primes)\n",
    "\n",
    "# Get the first 5 prime numbers\n",
    "first_5_primes = first_n_primes(5)\n",
    "print(first_5_primes)  # Output: (2, 3, 5, 7, 11)\n"
   ]
  },
  {
   "cell_type": "code",
   "execution_count": null,
   "id": "bc461665-7539-4148-b314-4e9230c55bbb",
   "metadata": {},
   "outputs": [],
   "source": [
    "33. Check if a tuple is a palindrome."
   ]
  },
  {
   "cell_type": "code",
   "execution_count": 220,
   "id": "74c34149-70df-4391-828e-d89d320dca81",
   "metadata": {},
   "outputs": [
    {
     "name": "stdout",
     "output_type": "stream",
     "text": [
      "True\n",
      "False\n"
     ]
    }
   ],
   "source": [
    "def is_palindrome(tup):\n",
    "    lst = list(tup)\n",
    "    return lst == lst[::-1]\n",
    "\n",
    "# Test the function\n",
    "palindrome_tuple = (1, 2, 3, 2, 1)\n",
    "non_palindrome_tuple = (1, 2, 3, 4, 5)\n",
    "print(is_palindrome(palindrome_tuple))  # Output: True\n",
    "print(is_palindrome(non_palindrome_tuple))  # Output: False\n"
   ]
  },
  {
   "cell_type": "code",
   "execution_count": null,
   "id": "0cc8d6e7-f2d4-4c73-a600-b06cf6a9f368",
   "metadata": {},
   "outputs": [],
   "source": [
    "34. Create a tuple of squares of numbers from 1 to 5."
   ]
  },
  {
   "cell_type": "code",
   "execution_count": 221,
   "id": "81ce548b-4430-465a-9e42-d9617441b215",
   "metadata": {},
   "outputs": [
    {
     "name": "stdout",
     "output_type": "stream",
     "text": [
      "(1, 4, 9, 16, 25)\n"
     ]
    }
   ],
   "source": [
    "squares_tuple = tuple(x**2 for x in range(1, 6))\n",
    "print(squares_tuple)  # Output: (1, 4, 9, 16, 25)\n"
   ]
  },
  {
   "cell_type": "code",
   "execution_count": null,
   "id": "dafd41ac-ca76-4b7b-93b4-513d7f0263f3",
   "metadata": {},
   "outputs": [],
   "source": [
    "35. Filter out all even numbers from a tuple."
   ]
  },
  {
   "cell_type": "code",
   "execution_count": null,
   "id": "e5223a4c-9a84-4caf-b48d-51d10bdd5cc6",
   "metadata": {},
   "outputs": [],
   "source": [
    "my_tuple = (1, 2, 3, 4, 5, 6, 7, 8, 9, 10)\n",
    "filtered_tuple = tuple(x for x in my_tuple if x % 2 != 0)\n",
    "print(filtered_tuple)  # Output: (1, 3, 5, 7, 9)\n"
   ]
  },
  {
   "cell_type": "code",
   "execution_count": null,
   "id": "a145e206-9cb0-4ef3-ab7d-024634ec1293",
   "metadata": {},
   "outputs": [],
   "source": [
    "36. Multiply all elements in a tuple by 2."
   ]
  },
  {
   "cell_type": "code",
   "execution_count": 222,
   "id": "7bc429b9-74d4-40d5-8c45-19f6c5d82f96",
   "metadata": {},
   "outputs": [
    {
     "name": "stdout",
     "output_type": "stream",
     "text": [
      "(2, 4, 6, 8, 10)\n"
     ]
    }
   ],
   "source": [
    "my_tuple = (1, 2, 3, 4, 5)\n",
    "multiplied_tuple = tuple(x * 2 for x in my_tuple)\n",
    "print(multiplied_tuple)  # Output: (2, 4, 6, 8, 10)\n"
   ]
  },
  {
   "cell_type": "code",
   "execution_count": null,
   "id": "0d5ed139-ecd2-4b80-b4cb-101ae723b70b",
   "metadata": {},
   "outputs": [],
   "source": [
    "37. Create a tuple of random numbers."
   ]
  },
  {
   "cell_type": "code",
   "execution_count": 223,
   "id": "7285c0c3-c0f7-4fb1-9436-1a049f78ff21",
   "metadata": {},
   "outputs": [
    {
     "name": "stdout",
     "output_type": "stream",
     "text": [
      "(53, 54, 64, 96, 100)\n"
     ]
    }
   ],
   "source": [
    "import random\n",
    "\n",
    "# Generate a tuple of 5 random numbers between 1 and 100\n",
    "random_tuple = tuple(random.randint(1, 100) for _ in range(5))\n",
    "print(random_tuple)\n"
   ]
  },
  {
   "cell_type": "code",
   "execution_count": null,
   "id": "1c2b6dfa-f619-4568-a84c-352fbee81d74",
   "metadata": {},
   "outputs": [],
   "source": [
    "38. Check if a tuple is sorted."
   ]
  },
  {
   "cell_type": "code",
   "execution_count": 224,
   "id": "80a44cf2-f29a-4432-b744-078c273b34d4",
   "metadata": {},
   "outputs": [
    {
     "name": "stdout",
     "output_type": "stream",
     "text": [
      "True\n"
     ]
    }
   ],
   "source": [
    "my_tuple = (1, 2, 3, 4, 5)\n",
    "is_sorted = all(my_tuple[i] <= my_tuple[i + 1] for i in range(len(my_tuple) - 1))\n",
    "print(is_sorted)  # Output: True\n"
   ]
  },
  {
   "cell_type": "code",
   "execution_count": null,
   "id": "55c8efd5-a10d-45b7-91c9-432b4389e7cd",
   "metadata": {},
   "outputs": [],
   "source": [
    "39. Rotate a tuple to the left by `n` positions."
   ]
  },
  {
   "cell_type": "code",
   "execution_count": 225,
   "id": "cf8fae70-ef83-486d-a851-5015548151d0",
   "metadata": {},
   "outputs": [
    {
     "name": "stdout",
     "output_type": "stream",
     "text": [
      "(3, 4, 5, 1, 2)\n"
     ]
    }
   ],
   "source": [
    "def rotate_left(tup, n):\n",
    "    n = n % len(tup)  # Normalize n to be within the length of the tuple\n",
    "    return tup[n:] + tup[:n]\n",
    "\n",
    "# Test the function\n",
    "my_tuple = (1, 2, 3, 4, 5)\n",
    "rotated_tuple = rotate_left(my_tuple, 2)\n",
    "print(rotated_tuple)  # Output: (3, 4, 5, 1, 2)\n"
   ]
  },
  {
   "cell_type": "code",
   "execution_count": null,
   "id": "0174604c-e6db-4068-ba80-492392bfdeae",
   "metadata": {},
   "outputs": [],
   "source": [
    "40. Rotate a tuple to the right by `n` positions."
   ]
  },
  {
   "cell_type": "code",
   "execution_count": 226,
   "id": "43e7f4d9-7643-4a2b-a5c5-232047342a44",
   "metadata": {},
   "outputs": [
    {
     "name": "stdout",
     "output_type": "stream",
     "text": [
      "(4, 5, 1, 2, 3)\n"
     ]
    }
   ],
   "source": [
    "def rotate_right(tup, n):\n",
    "    n = n % len(tup)  # Normalize n to be within the length of the tuple\n",
    "    return tup[-n:] + tup[:-n]\n",
    "\n",
    "# Test the function\n",
    "my_tuple = (1, 2, 3, 4, 5)\n",
    "rotated_tuple = rotate_right(my_tuple, 2)\n",
    "print(rotated_tuple)  # Output: (4, 5, 1, 2, 3)\n"
   ]
  },
  {
   "cell_type": "code",
   "execution_count": null,
   "id": "ea6a351e-2815-40d9-a10c-f8e3bd6bfa21",
   "metadata": {},
   "outputs": [],
   "source": [
    "41. Create a tuple of the first 5 Fibonacci numbers."
   ]
  },
  {
   "cell_type": "code",
   "execution_count": 227,
   "id": "28ffc56e-b74b-4f33-a507-0398ef037efd",
   "metadata": {},
   "outputs": [
    {
     "name": "stdout",
     "output_type": "stream",
     "text": [
      "(0, 1, 1, 2, 3)\n"
     ]
    }
   ],
   "source": [
    "def fibonacci(n):\n",
    "    fib = [0, 1]\n",
    "    while len(fib) < n:\n",
    "        fib.append(fib[-1] + fib[-2])\n",
    "    return tuple(fib)\n",
    "\n",
    "# Get the first 5 Fibonacci numbers\n",
    "first_5_fibonacci = fibonacci(5)\n",
    "print(first_5_fibonacci)  # Output: (0, 1, 1, 2, 3)\n"
   ]
  },
  {
   "cell_type": "code",
   "execution_count": null,
   "id": "120f4336-da42-4eeb-a6d8-f86b83fcd55f",
   "metadata": {},
   "outputs": [],
   "source": [
    "42. Create a tuple from user input."
   ]
  },
  {
   "cell_type": "code",
   "execution_count": 228,
   "id": "6cff3c8f-ec74-45ab-b65b-09d03b103e58",
   "metadata": {},
   "outputs": [
    {
     "name": "stdin",
     "output_type": "stream",
     "text": [
      "Enter elements separated by spaces:  saifi\n"
     ]
    },
    {
     "name": "stdout",
     "output_type": "stream",
     "text": [
      "User tuple: ('saifi',)\n"
     ]
    }
   ],
   "source": [
    "user_input = input(\"Enter elements separated by spaces: \")\n",
    "user_list = user_input.split()  # Split the input string into a list of strings\n",
    "user_tuple = tuple(user_list)  # Convert the list of strings into a tuple\n",
    "\n",
    "print(\"User tuple:\", user_tuple)\n"
   ]
  },
  {
   "cell_type": "code",
   "execution_count": null,
   "id": "453e3b74-fa35-49b9-9834-25f77c1f3dd6",
   "metadata": {},
   "outputs": [],
   "source": [
    "43. Swap two elements in a tuple."
   ]
  },
  {
   "cell_type": "code",
   "execution_count": 229,
   "id": "c4f00a80-73f3-470f-bd13-72bb79571b47",
   "metadata": {},
   "outputs": [
    {
     "name": "stdout",
     "output_type": "stream",
     "text": [
      "(1, 4, 3, 2, 5)\n"
     ]
    }
   ],
   "source": [
    "def swap_elements(tup, i, j):\n",
    "    lst = list(tup)\n",
    "    lst[i], lst[j] = lst[j], lst[i]\n",
    "    return tuple(lst)\n",
    "\n",
    "# Test the function\n",
    "my_tuple = (1, 2, 3, 4, 5)\n",
    "swapped_tuple = swap_elements(my_tuple, 1, 3)\n",
    "print(swapped_tuple)  # Output: (1, 4, 3, 2, 5)\n"
   ]
  },
  {
   "cell_type": "code",
   "execution_count": null,
   "id": "deacccf9-aaae-4b32-8157-a9eb018bb950",
   "metadata": {},
   "outputs": [],
   "source": [
    "44. Reverse the elements of a tuple."
   ]
  },
  {
   "cell_type": "code",
   "execution_count": 1,
   "id": "e564bb9b-e27e-40cd-930e-6124dcfea2a1",
   "metadata": {},
   "outputs": [
    {
     "name": "stdout",
     "output_type": "stream",
     "text": [
      "(5, 4, 3, 2, 1)\n"
     ]
    }
   ],
   "source": [
    "def reverse_tuple(tup):\n",
    "    lst = list(tup)\n",
    "    lst.reverse()\n",
    "    return tuple(lst)\n",
    "\n",
    "# Test the function\n",
    "my_tuple = (1, 2, 3, 4, 5)\n",
    "reversed_tuple = reverse_tuple(my_tuple)\n",
    "print(reversed_tuple)  # Output: (5, 4, 3, 2, 1)\n"
   ]
  },
  {
   "cell_type": "code",
   "execution_count": null,
   "id": "02d7b488-1327-4ab0-a22d-e873c31fe2de",
   "metadata": {},
   "outputs": [],
   "source": [
    "45. Create a tuple of the first `n` powers of 2."
   ]
  },
  {
   "cell_type": "code",
   "execution_count": 2,
   "id": "76aba191-3e0e-4b1b-b0d9-d77a168d4391",
   "metadata": {},
   "outputs": [
    {
     "name": "stdout",
     "output_type": "stream",
     "text": [
      "(1, 2, 4, 8, 16)\n"
     ]
    }
   ],
   "source": [
    "def powers_of_2(n):\n",
    "    return tuple(2**i for i in range(n))\n",
    "\n",
    "# Get the first 5 powers of 2\n",
    "first_5_powers_of_2 = powers_of_2(5)\n",
    "print(first_5_powers_of_2)  # Output: (1, 2, 4, 8, 16)\n"
   ]
  },
  {
   "cell_type": "code",
   "execution_count": null,
   "id": "5df732b6-1820-452e-960c-6ce3daeb5aa8",
   "metadata": {},
   "outputs": [],
   "source": [
    "46. Find the longest string in a tuple of strings."
   ]
  },
  {
   "cell_type": "code",
   "execution_count": 3,
   "id": "ca5cb2b2-f4df-4081-8938-c3f11f7d09a5",
   "metadata": {},
   "outputs": [
    {
     "name": "stdout",
     "output_type": "stream",
     "text": [
      "Longest string: elderberry\n"
     ]
    }
   ],
   "source": [
    "def longest_string(tup):\n",
    "    return max(tup, key=len)\n",
    "\n",
    "# Test the function\n",
    "my_tuple = (\"apple\", \"banana\", \"cherry\", \"date\", \"elderberry\")\n",
    "longest = longest_string(my_tuple)\n",
    "print(\"Longest string:\", longest)  # Output: \"elderberry\"\n"
   ]
  },
  {
   "cell_type": "code",
   "execution_count": null,
   "id": "945b0116-a90d-438c-b7ae-492bc8e75921",
   "metadata": {},
   "outputs": [],
   "source": [
    "47. Find the shortest string in a tuple of strings."
   ]
  },
  {
   "cell_type": "code",
   "execution_count": null,
   "id": "ba4df159-83df-4a24-9649-11c939a68d68",
   "metadata": {},
   "outputs": [],
   "source": [
    "def shortest_string(tup):\n",
    "    return min(tup, key=len)\n",
    "\n",
    "# Test the function\n",
    "my_tuple = (\"apple\", \"banana\", \"cherry\", \"date\", \"elderberry\")\n",
    "shortest = shortest_string(my_tuple)\n",
    "print(\"Shortest string:\", shortest)  # Output: \"date\"\n"
   ]
  },
  {
   "cell_type": "code",
   "execution_count": null,
   "id": "746343ee-439e-47cd-9737-b3c9894313a5",
   "metadata": {},
   "outputs": [],
   "source": [
    "48. Create a tuple of the first `n` triangular numbers."
   ]
  },
  {
   "cell_type": "code",
   "execution_count": 4,
   "id": "a0f29ed8-3129-4653-b3b8-fdc658c44ab8",
   "metadata": {},
   "outputs": [
    {
     "name": "stdout",
     "output_type": "stream",
     "text": [
      "(1, 3, 6, 10, 15)\n"
     ]
    }
   ],
   "source": [
    "def triangular_numbers(n):\n",
    "    return tuple((i * (i + 1)) // 2 for i in range(1, n + 1))\n",
    "\n",
    "# Get the first 5 triangular numbers\n",
    "first_5_triangular_numbers = triangular_numbers(5)\n",
    "print(first_5_triangular_numbers)  # Output: (1, 3, 6, 10, 15)\n"
   ]
  },
  {
   "cell_type": "code",
   "execution_count": null,
   "id": "8aa9f340-40aa-427b-b290-643761174eca",
   "metadata": {},
   "outputs": [],
   "source": [
    "49. Check if a tuple contains another tuple as a subsequence."
   ]
  },
  {
   "cell_type": "code",
   "execution_count": 5,
   "id": "8b1d42ae-1349-468e-b93d-efd1af3ccc94",
   "metadata": {},
   "outputs": [
    {
     "name": "stdout",
     "output_type": "stream",
     "text": [
      "True\n"
     ]
    }
   ],
   "source": [
    "def contains_subsequence(main_tuple, subsequence):\n",
    "    for i in range(len(main_tuple) - len(subsequence) + 1):\n",
    "        if main_tuple[i:i + len(subsequence)] == subsequence:\n",
    "            return True\n",
    "    return False\n",
    "\n",
    "# Test the function\n",
    "main_tuple = (1, 2, 3, 4, 5, 6, 7)\n",
    "subsequence = (3, 4, 5)\n",
    "print(contains_subsequence(main_tuple, subsequence))  # Output: True\n"
   ]
  },
  {
   "cell_type": "code",
   "execution_count": null,
   "id": "40d0e123-c8f8-4e66-a80f-df607cda3ce9",
   "metadata": {},
   "outputs": [],
   "source": [
    "50. Create a tuple of alternating 1s and 0s of length `n`."
   ]
  },
  {
   "cell_type": "code",
   "execution_count": 6,
   "id": "b91a3e8d-f248-448d-a4f3-e657cf0a4c75",
   "metadata": {},
   "outputs": [
    {
     "name": "stdout",
     "output_type": "stream",
     "text": [
      "(1, 0, 1, 0, 1)\n"
     ]
    }
   ],
   "source": [
    "def alternating_ones_zeros(n):\n",
    "    return tuple(1 if i % 2 == 0 else 0 for i in range(n))\n",
    "\n",
    "# Get a tuple of alternating 1s and 0s of length 5\n",
    "alternating_tuple = alternating_ones_zeros(5)\n",
    "print(alternating_tuple)  # Output: (1, 0, 1, 0, 1)\n"
   ]
  },
  {
   "cell_type": "markdown",
   "id": "8e02af75-3eda-4116-ac04-9a04183fe793",
   "metadata": {},
   "source": [
    "SET BASED QUESTION "
   ]
  },
  {
   "cell_type": "code",
   "execution_count": null,
   "id": "7e2a9f52-d64c-46d1-8fb0-be25bff4a416",
   "metadata": {},
   "outputs": [],
   "source": [
    "1. Create a set with integers from 1 to 5."
   ]
  },
  {
   "cell_type": "code",
   "execution_count": 7,
   "id": "f7c2d41b-fa74-491f-b099-0e9364314082",
   "metadata": {},
   "outputs": [],
   "source": [
    "s={1,2,3,4,5}"
   ]
  },
  {
   "cell_type": "code",
   "execution_count": 8,
   "id": "5b8a7354-5cd4-402b-828e-4422674bc257",
   "metadata": {},
   "outputs": [
    {
     "data": {
      "text/plain": [
       "{1, 2, 3, 4, 5}"
      ]
     },
     "execution_count": 8,
     "metadata": {},
     "output_type": "execute_result"
    }
   ],
   "source": [
    "s"
   ]
  },
  {
   "cell_type": "code",
   "execution_count": 9,
   "id": "e58dd8d0-6741-4de4-ba55-fe60ae61b648",
   "metadata": {},
   "outputs": [
    {
     "data": {
      "text/plain": [
       "set"
      ]
     },
     "execution_count": 9,
     "metadata": {},
     "output_type": "execute_result"
    }
   ],
   "source": [
    "type(s)"
   ]
  },
  {
   "cell_type": "code",
   "execution_count": null,
   "id": "80ab7c41-5ec4-49d6-b2bd-0fbda8a125f3",
   "metadata": {},
   "outputs": [],
   "source": [
    "2. Add an element to a set."
   ]
  },
  {
   "cell_type": "code",
   "execution_count": 10,
   "id": "e8804d8d-0ba0-4ada-9126-eb60e361e048",
   "metadata": {},
   "outputs": [
    {
     "name": "stdout",
     "output_type": "stream",
     "text": [
      "{1, 2, 3, 4}\n"
     ]
    }
   ],
   "source": [
    "my_set = {1, 2, 3}\n",
    "my_set.add(4)\n",
    "print(my_set)  # Output: {1, 2, 3, 4}\n"
   ]
  },
  {
   "cell_type": "code",
   "execution_count": null,
   "id": "ea0aed2a-50f8-430a-b8d5-7c6cdd5cb574",
   "metadata": {},
   "outputs": [],
   "source": [
    "3. Remove an element from a set."
   ]
  },
  {
   "cell_type": "code",
   "execution_count": 11,
   "id": "308b590b-c2a8-4511-8f7a-f6430f37d500",
   "metadata": {},
   "outputs": [
    {
     "name": "stdout",
     "output_type": "stream",
     "text": [
      "{1, 2, 4}\n",
      "{1, 4}\n",
      "{1, 4}\n"
     ]
    }
   ],
   "source": [
    "my_set = {1, 2, 3, 4}\n",
    "my_set.remove(3)\n",
    "print(my_set)  # Output: {1, 2, 4}\n",
    "\n",
    "my_set.discard(2)\n",
    "print(my_set)  # Output: {1, 4}\n",
    "\n",
    "# Trying to remove an element that does not exist\n",
    "my_set.discard(5)\n",
    "print(my_set)  # Output: {1, 4}\n"
   ]
  },
  {
   "cell_type": "code",
   "execution_count": null,
   "id": "ee615960-f114-4a24-8e00-6d7e9327a2d4",
   "metadata": {},
   "outputs": [],
   "source": [
    "4. Check if an element exists in a set."
   ]
  },
  {
   "cell_type": "code",
   "execution_count": 12,
   "id": "535c8215-018e-44b5-bc9c-13bb72c67006",
   "metadata": {},
   "outputs": [
    {
     "name": "stdout",
     "output_type": "stream",
     "text": [
      "True\n",
      "False\n"
     ]
    }
   ],
   "source": [
    "my_set = {1, 2, 3, 4}\n",
    "print(2 in my_set)  # Output: True\n",
    "print(5 in my_set)  # Output: False\n"
   ]
  },
  {
   "cell_type": "code",
   "execution_count": null,
   "id": "4a7cabc8-c502-4cd7-ada7-581a5ed6a17e",
   "metadata": {},
   "outputs": [],
   "source": [
    "5. Find the length of a set without using the `len()` function."
   ]
  },
  {
   "cell_type": "code",
   "execution_count": 13,
   "id": "e57c47cd-5dbf-4ce0-8437-6b21e0621330",
   "metadata": {},
   "outputs": [
    {
     "name": "stdout",
     "output_type": "stream",
     "text": [
      "5\n"
     ]
    }
   ],
   "source": [
    "def set_length(s):\n",
    "    count = 0\n",
    "    for _ in s:\n",
    "        count += 1\n",
    "    return count\n",
    "\n",
    "my_set = {1, 2, 3, 4, 5}\n",
    "print(set_length(my_set))  # Output: 5\n"
   ]
  },
  {
   "cell_type": "code",
   "execution_count": null,
   "id": "35660ab5-0fd7-4e0d-bbec-27bbc631ceb9",
   "metadata": {},
   "outputs": [],
   "source": [
    "6. Clear all elements from a set."
   ]
  },
  {
   "cell_type": "code",
   "execution_count": 14,
   "id": "d66c51f1-e4c5-441a-af48-059532a8bb7a",
   "metadata": {},
   "outputs": [
    {
     "name": "stdout",
     "output_type": "stream",
     "text": [
      "set()\n"
     ]
    }
   ],
   "source": [
    "my_set = {1, 2, 3, 4, 5}\n",
    "my_set.clear()\n",
    "print(my_set)  # Output: set()\n"
   ]
  },
  {
   "cell_type": "code",
   "execution_count": null,
   "id": "d15a7247-4d29-4f41-9e39-690b52b79a15",
   "metadata": {},
   "outputs": [],
   "source": [
    "7. Create a set of even numbers from 1 to 10."
   ]
  },
  {
   "cell_type": "code",
   "execution_count": 15,
   "id": "a1cf2c14-9718-48ac-972a-989a13266b01",
   "metadata": {},
   "outputs": [
    {
     "name": "stdout",
     "output_type": "stream",
     "text": [
      "{2, 4, 6, 8, 10}\n"
     ]
    }
   ],
   "source": [
    "even_numbers = {x for x in range(1, 11) if x % 2 == 0}\n",
    "print(even_numbers)  # Output: {2, 4, 6, 8, 10}\n"
   ]
  },
  {
   "cell_type": "code",
   "execution_count": null,
   "id": "217f1922-9504-4a90-a65e-ef68b17f692b",
   "metadata": {},
   "outputs": [],
   "source": [
    "8. Create a set of odd numbers from 1 to 10."
   ]
  },
  {
   "cell_type": "code",
   "execution_count": 16,
   "id": "c0f70b8e-3776-4016-b6a1-57cdefa1b589",
   "metadata": {},
   "outputs": [
    {
     "name": "stdout",
     "output_type": "stream",
     "text": [
      "{1, 3, 5, 7, 9}\n"
     ]
    }
   ],
   "source": [
    "odd_numbers = {x for x in range(1, 11) if x % 2 != 0}\n",
    "print(odd_numbers)  # Output: {1, 3, 5, 7, 9}\n"
   ]
  },
  {
   "cell_type": "code",
   "execution_count": null,
   "id": "290598dd-d15a-41b4-aff9-e38be762087d",
   "metadata": {},
   "outputs": [],
   "source": [
    "9. Find the union of two sets."
   ]
  },
  {
   "cell_type": "code",
   "execution_count": 17,
   "id": "7880c2b1-f9a5-46b4-a8ad-ec5964ee813f",
   "metadata": {},
   "outputs": [
    {
     "name": "stdout",
     "output_type": "stream",
     "text": [
      "{1, 2, 3, 4, 5}\n",
      "{1, 2, 3, 4, 5}\n"
     ]
    }
   ],
   "source": [
    "set1 = {1, 2, 3}\n",
    "set2 = {3, 4, 5}\n",
    "\n",
    "# Using the union() method\n",
    "union_set1 = set1.union(set2)\n",
    "print(union_set1)  # Output: {1, 2, 3, 4, 5}\n",
    "\n",
    "# Using the | operator\n",
    "union_set2 = set1 | set2\n",
    "print(union_set2)  # Output: {1, 2, 3, 4, 5}\n"
   ]
  },
  {
   "cell_type": "code",
   "execution_count": null,
   "id": "d8135f1d-7c5a-4365-89d9-3bf42c657df2",
   "metadata": {},
   "outputs": [],
   "source": [
    "10. Find the intersection of two sets."
   ]
  },
  {
   "cell_type": "code",
   "execution_count": 18,
   "id": "8f8308b0-0690-45d0-8267-f13216d89b3d",
   "metadata": {},
   "outputs": [
    {
     "name": "stdout",
     "output_type": "stream",
     "text": [
      "{3, 4}\n",
      "{3, 4}\n"
     ]
    }
   ],
   "source": [
    "set1 = {1, 2, 3, 4}\n",
    "set2 = {3, 4, 5}\n",
    "\n",
    "# Using the intersection() method\n",
    "intersection_set1 = set1.intersection(set2)\n",
    "print(intersection_set1)  # Output: {3, 4}\n",
    "\n",
    "# Using the & operator\n",
    "intersection_set2 = set1 & set2\n",
    "print(intersection_set2)  # Output: {3, 4}\n"
   ]
  },
  {
   "cell_type": "code",
   "execution_count": null,
   "id": "68b5a416-6c91-4ea9-a2f7-c3578a17b794",
   "metadata": {},
   "outputs": [],
   "source": [
    "11. Find the difference between two sets."
   ]
  },
  {
   "cell_type": "code",
   "execution_count": 19,
   "id": "ac8acd9f-db3c-4b0a-8987-1e4ba62684b4",
   "metadata": {},
   "outputs": [
    {
     "name": "stdout",
     "output_type": "stream",
     "text": [
      "{1, 2}\n",
      "{1, 2}\n"
     ]
    }
   ],
   "source": [
    "set1 = {1, 2, 3, 4}\n",
    "set2 = {3, 4, 5}\n",
    "\n",
    "# Using the difference() method\n",
    "difference_set1 = set1.difference(set2)\n",
    "print(difference_set1)  # Output: {1, 2}\n",
    "\n",
    "# Using the - operator\n",
    "difference_set2 = set1 - set2\n",
    "print(difference_set2)  # Output: {1, 2}\n"
   ]
  },
  {
   "cell_type": "code",
   "execution_count": null,
   "id": "6475ee14-9e91-438d-af61-f8fc4a2d08db",
   "metadata": {},
   "outputs": [],
   "source": [
    "12. Check if a set is a subset of another set."
   ]
  },
  {
   "cell_type": "code",
   "execution_count": 20,
   "id": "17243031-d7a6-497a-a248-3db42ff7707e",
   "metadata": {},
   "outputs": [
    {
     "name": "stdout",
     "output_type": "stream",
     "text": [
      "True\n",
      "True\n"
     ]
    }
   ],
   "source": [
    "set1 = {1, 2, 3}\n",
    "set2 = {1, 2, 3, 4, 5}\n",
    "\n",
    "# Using the issubset() method\n",
    "is_subset1 = set1.issubset(set2)\n",
    "print(is_subset1)  # Output: True\n",
    "\n",
    "# Using the <= operator\n",
    "is_subset2 = set1 <= set2\n",
    "print(is_subset2)  # Output: True\n"
   ]
  },
  {
   "cell_type": "code",
   "execution_count": null,
   "id": "a1b94847-6808-44da-accf-2233ed525e67",
   "metadata": {},
   "outputs": [],
   "source": [
    "13. Check if a set is a superset of another set."
   ]
  },
  {
   "cell_type": "code",
   "execution_count": 21,
   "id": "3b5aa303-dfc5-427c-b31f-b9a4ef4862c9",
   "metadata": {},
   "outputs": [
    {
     "name": "stdout",
     "output_type": "stream",
     "text": [
      "True\n",
      "True\n"
     ]
    }
   ],
   "source": [
    "set1 = {1, 2, 3, 4, 5}\n",
    "set2 = {1, 2, 3}\n",
    "\n",
    "# Using the issuperset() method\n",
    "is_superset1 = set1.issuperset(set2)\n",
    "print(is_superset1)  # Output: True\n",
    "\n",
    "# Using the >= operator\n",
    "is_superset2 = set1 >= set2\n",
    "print(is_superset2)  # Output: True\n"
   ]
  },
  {
   "cell_type": "code",
   "execution_count": null,
   "id": "7fe8a3e1-782f-473a-b49d-6911aa7f87f7",
   "metadata": {},
   "outputs": [],
   "source": [
    "14. Create a set from a list."
   ]
  },
  {
   "cell_type": "code",
   "execution_count": 22,
   "id": "34fc656c-b624-454a-b932-161903933c13",
   "metadata": {},
   "outputs": [
    {
     "name": "stdout",
     "output_type": "stream",
     "text": [
      "{1, 2, 3, 4, 5}\n"
     ]
    }
   ],
   "source": [
    "my_list = [1, 2, 3, 4, 5]\n",
    "my_set = set(my_list)\n",
    "print(my_set)  # Output: {1, 2, 3, 4, 5}\n",
    "\n"
   ]
  },
  {
   "cell_type": "code",
   "execution_count": null,
   "id": "b2764091-2df2-47b7-ae7f-b76b9e069a1e",
   "metadata": {},
   "outputs": [],
   "source": [
    "15. Convert a set to a list."
   ]
  },
  {
   "cell_type": "code",
   "execution_count": 23,
   "id": "d088d0f6-dba2-49ef-836f-17b00bd8f49d",
   "metadata": {},
   "outputs": [
    {
     "name": "stdout",
     "output_type": "stream",
     "text": [
      "[1, 2, 3, 4, 5]\n"
     ]
    }
   ],
   "source": [
    "my_set = {1, 2, 3, 4, 5}\n",
    "my_list = list(my_set)\n",
    "print(my_list)  # Output: [1, 2, 3, 4, 5]\n"
   ]
  },
  {
   "cell_type": "code",
   "execution_count": null,
   "id": "66afb039-5490-407c-82ec-b1a509cb7390",
   "metadata": {},
   "outputs": [],
   "source": [
    "16. Remove a random element from a set."
   ]
  },
  {
   "cell_type": "code",
   "execution_count": 24,
   "id": "e73ab10b-dffc-4295-bdbf-c693beb75a68",
   "metadata": {},
   "outputs": [
    {
     "name": "stdout",
     "output_type": "stream",
     "text": [
      "Removed element: 1\n",
      "Set after removal: {2, 3, 4, 5}\n"
     ]
    }
   ],
   "source": [
    "my_set = {1, 2, 3, 4, 5}\n",
    "removed_element = my_set.pop()\n",
    "print(\"Removed element:\", removed_element)\n",
    "print(\"Set after removal:\", my_set)\n"
   ]
  },
  {
   "cell_type": "code",
   "execution_count": null,
   "id": "58d482ce-f775-4da6-8bf6-47ce5b3d31fc",
   "metadata": {},
   "outputs": [],
   "source": [
    "17. Pop an element from a set."
   ]
  },
  {
   "cell_type": "code",
   "execution_count": 25,
   "id": "40ddacfb-afe6-4197-ba46-b88c91e0ef45",
   "metadata": {},
   "outputs": [
    {
     "name": "stdout",
     "output_type": "stream",
     "text": [
      "Popped element: 1\n",
      "Set after pop: {2, 3, 4, 5}\n"
     ]
    }
   ],
   "source": [
    "my_set = {1, 2, 3, 4, 5}\n",
    "popped_element = my_set.pop()\n",
    "print(\"Popped element:\", popped_element)\n",
    "print(\"Set after pop:\", my_set)\n"
   ]
  },
  {
   "cell_type": "code",
   "execution_count": null,
   "id": "e248b99c-3808-444a-917e-8336b25ab40e",
   "metadata": {},
   "outputs": [],
   "source": [
    "18. Check if two sets have no elements in common."
   ]
  },
  {
   "cell_type": "code",
   "execution_count": 26,
   "id": "21dea74e-f2e3-416a-a571-afeecdb9076e",
   "metadata": {},
   "outputs": [
    {
     "name": "stdout",
     "output_type": "stream",
     "text": [
      "True\n"
     ]
    }
   ],
   "source": [
    "set1 = {1, 2, 3}\n",
    "set2 = {4, 5, 6}\n",
    "\n",
    "# Using the isdisjoint() method\n",
    "no_common_elements = set1.isdisjoint(set2)\n",
    "print(no_common_elements)  # Output: True\n"
   ]
  },
  {
   "cell_type": "code",
   "execution_count": null,
   "id": "fe66cce2-90dc-40a7-8c10-bf80308659e7",
   "metadata": {},
   "outputs": [],
   "source": [
    "19. Find the symmetric difference between two sets."
   ]
  },
  {
   "cell_type": "code",
   "execution_count": 27,
   "id": "d3974f47-c878-46dc-9994-93989e818919",
   "metadata": {},
   "outputs": [
    {
     "name": "stdout",
     "output_type": "stream",
     "text": [
      "{1, 2, 5, 6}\n",
      "{1, 2, 5, 6}\n"
     ]
    }
   ],
   "source": [
    "set1 = {1, 2, 3, 4}\n",
    "set2 = {3, 4, 5, 6}\n",
    "\n",
    "# Using the symmetric_difference() method\n",
    "symmetric_difference_set1 = set1.symmetric_difference(set2)\n",
    "print(symmetric_difference_set1)  # Output: {1, 2, 5, 6}\n",
    "\n",
    "# Using the ^ operator\n",
    "symmetric_difference_set2 = set1 ^ set2\n",
    "print(symmetric_difference_set2)  # Output: {1, 2, 5, 6}\n"
   ]
  },
  {
   "cell_type": "code",
   "execution_count": null,
   "id": "59824262-3687-486a-8bd3-c78125f6a24f",
   "metadata": {},
   "outputs": [],
   "source": [
    "20. Update a set with elements from another set."
   ]
  },
  {
   "cell_type": "code",
   "execution_count": 28,
   "id": "5f898962-6f6b-48be-995c-a1945c9035cb",
   "metadata": {},
   "outputs": [
    {
     "name": "stdout",
     "output_type": "stream",
     "text": [
      "{1, 2, 3, 4, 5}\n",
      "{1, 2, 3, 4, 5}\n"
     ]
    }
   ],
   "source": [
    "set1 = {1, 2, 3}\n",
    "set2 = {3, 4, 5}\n",
    "\n",
    "# Using the update() method\n",
    "set1.update(set2)\n",
    "print(set1)  # Output: {1, 2, 3, 4, 5}\n",
    "\n",
    "# Using the |= operator\n",
    "set1 |= set2\n",
    "print(set1)  # Output: {1, 2, 3, 4, 5}\n"
   ]
  },
  {
   "cell_type": "code",
   "execution_count": null,
   "id": "e3c386cc-5c2a-4db3-bb64-3352d6947cde",
   "metadata": {},
   "outputs": [],
   "source": [
    "21. Create a set of the first 5 prime numbers."
   ]
  },
  {
   "cell_type": "code",
   "execution_count": 29,
   "id": "49f1561d-338a-4739-b62d-eecc4f076945",
   "metadata": {},
   "outputs": [
    {
     "name": "stdout",
     "output_type": "stream",
     "text": [
      "{2, 3, 5, 7, 11}\n"
     ]
    }
   ],
   "source": [
    "def is_prime(n):\n",
    "    if n < 2:\n",
    "        return False\n",
    "    for i in range(2, int(n**0.5) + 1):\n",
    "        if n % i == 0:\n",
    "            return False\n",
    "    return True\n",
    "\n",
    "prime_numbers = {num for num in range(2, 20) if is_prime(num)}\n",
    "first_5_primes = set(list(prime_numbers)[:5])\n",
    "print(first_5_primes)  # Output: {2, 3, 5, 7, 11}\n"
   ]
  },
  {
   "cell_type": "code",
   "execution_count": null,
   "id": "9be3018e-66e0-4c01-9811-806fa2c59f99",
   "metadata": {},
   "outputs": [],
   "source": [
    "22. Check if two sets are identical."
   ]
  },
  {
   "cell_type": "code",
   "execution_count": 30,
   "id": "f185d789-23fd-40c9-8d8a-22412581c9be",
   "metadata": {},
   "outputs": [
    {
     "name": "stdout",
     "output_type": "stream",
     "text": [
      "True\n",
      "False\n"
     ]
    }
   ],
   "source": [
    "set1 = {1, 2, 3}\n",
    "set2 = {3, 2, 1}\n",
    "set3 = {1, 2, 3, 4}\n",
    "\n",
    "print(set1 == set2)  # Output: True\n",
    "print(set1 == set3)  # Output: False\n"
   ]
  },
  {
   "cell_type": "code",
   "execution_count": null,
   "id": "1129e5fb-fc44-4160-9058-15ca3eab695f",
   "metadata": {},
   "outputs": [],
   "source": [
    "23. Create a frozen set."
   ]
  },
  {
   "cell_type": "code",
   "execution_count": 31,
   "id": "99686b42-85f7-4aed-9192-b5ffa1a34f32",
   "metadata": {},
   "outputs": [
    {
     "name": "stdout",
     "output_type": "stream",
     "text": [
      "frozenset({1, 2, 3, 4, 5})\n"
     ]
    }
   ],
   "source": [
    "my_set = {1, 2, 3, 4, 5}\n",
    "frozen_set = frozenset(my_set)\n",
    "print(frozen_set)  # Output: frozenset({1, 2, 3, 4, 5})\n"
   ]
  },
  {
   "cell_type": "code",
   "execution_count": null,
   "id": "702761a3-8d5e-4b1e-adf5-074170eaf03a",
   "metadata": {},
   "outputs": [],
   "source": [
    "24. Check if a set is disjoint with another set."
   ]
  },
  {
   "cell_type": "code",
   "execution_count": 32,
   "id": "d980cac9-32b4-4086-837e-f0d99b8bfd2f",
   "metadata": {},
   "outputs": [
    {
     "name": "stdout",
     "output_type": "stream",
     "text": [
      "True\n",
      "False\n"
     ]
    }
   ],
   "source": [
    "set1 = {1, 2, 3}\n",
    "set2 = {4, 5, 6}\n",
    "\n",
    "# Using the isdisjoint() method\n",
    "is_disjoint1 = set1.isdisjoint(set2)\n",
    "print(is_disjoint1)  # Output: True\n",
    "\n",
    "set3 = {3, 4, 5}\n",
    "\n",
    "is_disjoint2 = set1.isdisjoint(set3)\n",
    "print(is_disjoint2)  # Output: False\n"
   ]
  },
  {
   "cell_type": "code",
   "execution_count": null,
   "id": "a00bdfbc-6613-4f13-8645-6fb0ee7a6d64",
   "metadata": {},
   "outputs": [],
   "source": [
    "25. Create a set of squares of numbers from 1 to 5."
   ]
  },
  {
   "cell_type": "code",
   "execution_count": 33,
   "id": "346a597c-3664-489f-ac7e-639c3474c7d7",
   "metadata": {},
   "outputs": [
    {
     "name": "stdout",
     "output_type": "stream",
     "text": [
      "{1, 4, 9, 16, 25}\n"
     ]
    }
   ],
   "source": [
    "squares = {x**2 for x in range(1, 6)}\n",
    "print(squares)  # Output: {1, 4, 9, 16, 25}\n"
   ]
  },
  {
   "cell_type": "code",
   "execution_count": null,
   "id": "da4edb4b-90e9-4635-992e-af28d39265f9",
   "metadata": {},
   "outputs": [],
   "source": [
    "26. Filter out all even numbers from a set."
   ]
  },
  {
   "cell_type": "code",
   "execution_count": 34,
   "id": "dda6bb3d-2641-4769-900e-669938661783",
   "metadata": {},
   "outputs": [
    {
     "name": "stdout",
     "output_type": "stream",
     "text": [
      "{1, 3, 5, 7, 9}\n"
     ]
    }
   ],
   "source": [
    "my_set = {1, 2, 3, 4, 5, 6, 7, 8, 9, 10}\n",
    "filtered_set = {x for x in my_set if x % 2 != 0}\n",
    "print(filtered_set)  # Output: {1, 3, 5, 7, 9}\n"
   ]
  },
  {
   "cell_type": "code",
   "execution_count": null,
   "id": "9222529e-a937-45bd-a92f-d0f3de8aeed4",
   "metadata": {},
   "outputs": [],
   "source": [
    "27. Multiply all elements in a set by 2."
   ]
  },
  {
   "cell_type": "code",
   "execution_count": 35,
   "id": "4be336a8-da72-404c-a1ad-7cb88d9901bf",
   "metadata": {},
   "outputs": [
    {
     "name": "stdout",
     "output_type": "stream",
     "text": [
      "{2, 4, 6, 8, 10}\n"
     ]
    }
   ],
   "source": [
    "my_set = {1, 2, 3, 4, 5}\n",
    "multiplied_set = {x * 2 for x in my_set}\n",
    "print(multiplied_set)  # Output: {2, 4, 6, 8, 10}\n"
   ]
  },
  {
   "cell_type": "code",
   "execution_count": null,
   "id": "6a954cee-fe60-41af-a2e4-e69860bedce3",
   "metadata": {},
   "outputs": [],
   "source": [
    "28. Create a set of random numbers."
   ]
  },
  {
   "cell_type": "code",
   "execution_count": 36,
   "id": "90728359-bd7d-48a7-8cff-4adeb08c7dec",
   "metadata": {},
   "outputs": [],
   "source": [
    "s={889979,676978655,567897965}"
   ]
  },
  {
   "cell_type": "code",
   "execution_count": 37,
   "id": "ebf7cd50-7377-4424-b046-b2a6151b3415",
   "metadata": {},
   "outputs": [
    {
     "data": {
      "text/plain": [
       "{889979, 567897965, 676978655}"
      ]
     },
     "execution_count": 37,
     "metadata": {},
     "output_type": "execute_result"
    }
   ],
   "source": [
    "s"
   ]
  },
  {
   "cell_type": "code",
   "execution_count": 38,
   "id": "7ca3ba82-765a-4a19-8455-f1b4cce1ac6e",
   "metadata": {},
   "outputs": [
    {
     "data": {
      "text/plain": [
       "set"
      ]
     },
     "execution_count": 38,
     "metadata": {},
     "output_type": "execute_result"
    }
   ],
   "source": [
    "type(s)"
   ]
  },
  {
   "cell_type": "code",
   "execution_count": null,
   "id": "897ffc99-5705-47dc-b965-f0f8cb812a85",
   "metadata": {},
   "outputs": [],
   "source": [
    "29. Check if a set is empty."
   ]
  },
  {
   "cell_type": "code",
   "execution_count": 39,
   "id": "d7f45df8-3e46-4e12-bbc1-634fff5908f5",
   "metadata": {},
   "outputs": [
    {
     "name": "stdout",
     "output_type": "stream",
     "text": [
      "The set is empty.\n"
     ]
    }
   ],
   "source": [
    "my_set = set()\n",
    "\n",
    "if len(my_set) == 0:\n",
    "    print(\"The set is empty.\")\n",
    "else:\n",
    "    print(\"The set is not empty.\")\n"
   ]
  },
  {
   "cell_type": "code",
   "execution_count": null,
   "id": "ccf5a661-d86b-4544-8bbb-8937e0b6f393",
   "metadata": {},
   "outputs": [],
   "source": [
    "30. Create a nested set (hint: use frozenset)."
   ]
  },
  {
   "cell_type": "code",
   "execution_count": 40,
   "id": "89794804-5370-4325-b376-648bf85687ad",
   "metadata": {},
   "outputs": [
    {
     "name": "stdout",
     "output_type": "stream",
     "text": [
      "{frozenset({1, 2, 3}), frozenset({'b', 'c', 'a'})}\n"
     ]
    }
   ],
   "source": [
    "nested_set = {frozenset({1, 2, 3}), frozenset({'a', 'b', 'c'})}\n",
    "print(nested_set)\n"
   ]
  },
  {
   "cell_type": "code",
   "execution_count": null,
   "id": "e114b83f-0491-4fcb-b0b6-f6127a3766a2",
   "metadata": {},
   "outputs": [],
   "source": [
    "31. Remove an element from a set using the discard method."
   ]
  },
  {
   "cell_type": "code",
   "execution_count": 41,
   "id": "6a89e23a-329c-466e-93cd-13263b8c09b4",
   "metadata": {},
   "outputs": [
    {
     "name": "stdout",
     "output_type": "stream",
     "text": [
      "Before discard: {1, 2, 3, 4, 5}\n",
      "After discard: {1, 2, 4, 5}\n",
      "After discard(6): {1, 2, 4, 5}\n"
     ]
    }
   ],
   "source": [
    "my_set = {1, 2, 3, 4, 5}\n",
    "print(\"Before discard:\", my_set)\n",
    "\n",
    "my_set.discard(3)  # Remove 3 from the set\n",
    "print(\"After discard:\", my_set)\n",
    "\n",
    "my_set.discard(6)  # Try to remove 6 (not in the set)\n",
    "print(\"After discard(6):\", my_set)\n"
   ]
  },
  {
   "cell_type": "code",
   "execution_count": null,
   "id": "439f3a82-f570-416d-a790-14c761474f56",
   "metadata": {},
   "outputs": [],
   "source": [
    "32. Compare two sets."
   ]
  },
  {
   "cell_type": "code",
   "execution_count": 42,
   "id": "b115e52f-31bf-4eca-875d-eba60f538d50",
   "metadata": {},
   "outputs": [
    {
     "name": "stdout",
     "output_type": "stream",
     "text": [
      "False\n",
      "True\n",
      "False\n",
      "False\n",
      "False\n",
      "False\n"
     ]
    }
   ],
   "source": [
    "set1 = {1, 2, 3, 4, 5}\n",
    "set2 = {3, 4, 5, 6, 7}\n",
    "\n",
    "# Equal sets\n",
    "print(set1 == set2)  # False\n",
    "\n",
    "# Not equal sets\n",
    "print(set1 != set2)  # True\n",
    "\n",
    "# Set 1 is a proper subset of set 2\n",
    "print(set1 < set2)   # False\n",
    "\n",
    "# Set 2 is a proper superset of set 1\n",
    "print(set1 > set2)   # False\n",
    "\n",
    "# Set 1 is a subset of set 2\n",
    "print(set1 <= set2)  # False\n",
    "\n",
    "# Set 2 is a superset of set 1\n",
    "\n",
    "print(set1 >= set2)  # False\n"
   ]
  },
  {
   "cell_type": "code",
   "execution_count": null,
   "id": "0c7445b4-9f94-455f-b3e8-d84da626a2af",
   "metadata": {},
   "outputs": [],
   "source": [
    "33. Create a set from a string."
   ]
  },
  {
   "cell_type": "code",
   "execution_count": 43,
   "id": "e3eae9b6-ac48-4c06-b81d-eddf8ae4c361",
   "metadata": {},
   "outputs": [
    {
     "name": "stdout",
     "output_type": "stream",
     "text": [
      "{'e', 'h', 'l', 'o'}\n"
     ]
    }
   ],
   "source": [
    "my_string = \"hello\"\n",
    "my_set = set(my_string)\n",
    "print(my_set)\n"
   ]
  },
  {
   "cell_type": "code",
   "execution_count": null,
   "id": "3acc8de3-42aa-4577-be5d-2c153e5063af",
   "metadata": {},
   "outputs": [],
   "source": [
    "34. Convert a set of strings to a set of integers."
   ]
  },
  {
   "cell_type": "code",
   "execution_count": 44,
   "id": "8b1189a8-5401-439b-8a0f-fa22d44177ad",
   "metadata": {},
   "outputs": [
    {
     "name": "stdout",
     "output_type": "stream",
     "text": [
      "{1, 2, 3, 4, 5}\n"
     ]
    }
   ],
   "source": [
    "set_of_strings = {\"1\", \"2\", \"3\", \"4\", \"5\"}\n",
    "set_of_integers = {int(x) for x in set_of_strings}\n",
    "print(set_of_integers)\n"
   ]
  },
  {
   "cell_type": "code",
   "execution_count": null,
   "id": "da5dd55d-df36-4a5d-80c9-8fc98829bb03",
   "metadata": {},
   "outputs": [],
   "source": [
    "35. Convert a set of integers to a set of strings."
   ]
  },
  {
   "cell_type": "code",
   "execution_count": 45,
   "id": "12b5c7f7-fd88-47d8-b385-64ce334d49c4",
   "metadata": {},
   "outputs": [
    {
     "name": "stdout",
     "output_type": "stream",
     "text": [
      "{'4', '5', '2', '1', '3'}\n"
     ]
    }
   ],
   "source": [
    "set_of_integers = {1, 2, 3, 4, 5}\n",
    "set_of_strings = {str(x) for x in set_of_integers}\n",
    "print(set_of_strings)\n"
   ]
  },
  {
   "cell_type": "code",
   "execution_count": null,
   "id": "fa882a2c-52f4-4844-8c01-1bd254dfbd63",
   "metadata": {},
   "outputs": [],
   "source": [
    "36. Create a set from a tuple."
   ]
  },
  {
   "cell_type": "code",
   "execution_count": 46,
   "id": "e87dc36c-2691-4f63-ad4b-85b42afc3f0e",
   "metadata": {},
   "outputs": [
    {
     "name": "stdout",
     "output_type": "stream",
     "text": [
      "{1, 2, 3, 4, 5}\n"
     ]
    }
   ],
   "source": [
    "my_tuple = (1, 2, 3, 4, 5)\n",
    "my_set = set(my_tuple)\n",
    "print(my_set)\n"
   ]
  },
  {
   "cell_type": "code",
   "execution_count": null,
   "id": "52fb64b3-0a94-49cf-866d-d89462c1f6b1",
   "metadata": {},
   "outputs": [],
   "source": [
    "37. Convert a set to a tuple."
   ]
  },
  {
   "cell_type": "code",
   "execution_count": 47,
   "id": "d197e86d-6ad0-445d-b282-574911da1866",
   "metadata": {},
   "outputs": [
    {
     "name": "stdout",
     "output_type": "stream",
     "text": [
      "(1, 2, 3, 4, 5)\n"
     ]
    }
   ],
   "source": [
    "my_set = {1, 2, 3, 4, 5}\n",
    "my_tuple = tuple(my_set)\n",
    "print(my_tuple)\n"
   ]
  },
  {
   "cell_type": "code",
   "execution_count": null,
   "id": "826349a3-9d09-49e9-9ae0-af5d51ec06fc",
   "metadata": {},
   "outputs": [],
   "source": [
    "38. Find the maximum value in a set."
   ]
  },
  {
   "cell_type": "code",
   "execution_count": 48,
   "id": "57010040-ced5-46b9-be15-df238cb847de",
   "metadata": {},
   "outputs": [
    {
     "name": "stdout",
     "output_type": "stream",
     "text": [
      "Maximum value in the set: 30\n"
     ]
    }
   ],
   "source": [
    "my_set = {10, 5, 20, 15, 30}\n",
    "max_value = max(my_set)\n",
    "print(\"Maximum value in the set:\", max_value)\n"
   ]
  },
  {
   "cell_type": "code",
   "execution_count": null,
   "id": "c79ce5e6-27f0-4847-b8c5-526564e9eb78",
   "metadata": {},
   "outputs": [],
   "source": [
    "39. Find the minimum value in a set."
   ]
  },
  {
   "cell_type": "code",
   "execution_count": 49,
   "id": "69c14776-7e9a-4e17-b0bb-46b4b994308b",
   "metadata": {},
   "outputs": [
    {
     "name": "stdout",
     "output_type": "stream",
     "text": [
      "Minimum value in the set: 5\n"
     ]
    }
   ],
   "source": [
    "my_set = {10, 5, 20, 15, 30}\n",
    "min_value = min(my_set)\n",
    "print(\"Minimum value in the set:\", min_value)\n"
   ]
  },
  {
   "cell_type": "code",
   "execution_count": null,
   "id": "2bf7e0ed-14cb-42d3-9840-f2807b9524ce",
   "metadata": {},
   "outputs": [],
   "source": [
    "40. Create a set from user input."
   ]
  },
  {
   "cell_type": "code",
   "execution_count": 50,
   "id": "0850d1f4-e5c9-4fd9-9870-2103003ab042",
   "metadata": {},
   "outputs": [
    {
     "name": "stdin",
     "output_type": "stream",
     "text": [
      "Enter a value (or type 'done' to finish):  imran\n",
      "Enter a value (or type 'done' to finish):  wali\n",
      "Enter a value (or type 'done' to finish):  done\n"
     ]
    },
    {
     "name": "stdout",
     "output_type": "stream",
     "text": [
      "The set you entered is: {'imran', 'wali'}\n"
     ]
    }
   ],
   "source": [
    "user_set = set()\n",
    "\n",
    "while True:\n",
    "    user_input = input(\"Enter a value (or type 'done' to finish): \")\n",
    "    if user_input.lower() == 'done':\n",
    "        break\n",
    "    user_set.add(user_input)\n",
    "\n",
    "print(\"The set you entered is:\", user_set)\n"
   ]
  },
  {
   "cell_type": "code",
   "execution_count": null,
   "id": "49d8d155-5c00-42d4-b5b7-c2cda20f7d19",
   "metadata": {},
   "outputs": [],
   "source": [
    "41. Check if the intersection of two sets is empty."
   ]
  },
  {
   "cell_type": "code",
   "execution_count": 51,
   "id": "7aec28d3-5842-451b-8eed-21cb059d5709",
   "metadata": {},
   "outputs": [
    {
     "name": "stdout",
     "output_type": "stream",
     "text": [
      "The intersection of the two sets is not empty.\n"
     ]
    }
   ],
   "source": [
    "set1 = {1, 2, 3, 4, 5}\n",
    "set2 = {4, 5, 6, 7, 8}\n",
    "\n",
    "intersection = set1.intersection(set2)\n",
    "\n",
    "if not intersection:\n",
    "    print(\"The intersection of the two sets is empty.\")\n",
    "else:\n",
    "    print(\"The intersection of the two sets is not empty.\")\n"
   ]
  },
  {
   "cell_type": "code",
   "execution_count": null,
   "id": "951b2e24-0d75-4e4b-96a4-a4338e36439a",
   "metadata": {},
   "outputs": [],
   "source": [
    "42. Create a set of the first 5 Fibonacci numbers."
   ]
  },
  {
   "cell_type": "code",
   "execution_count": 52,
   "id": "5b260b1b-4c11-46b6-acd2-349d1b8d6ad6",
   "metadata": {},
   "outputs": [
    {
     "name": "stdout",
     "output_type": "stream",
     "text": [
      "Set of the first 5 Fibonacci numbers: {0, 1, 2, 3}\n"
     ]
    }
   ],
   "source": [
    "fibonacci_set = set()\n",
    "a, b = 0, 1\n",
    "\n",
    "for _ in range(5):\n",
    "    fibonacci_set.add(a)\n",
    "    a, b = b, a + b\n",
    "\n",
    "print(\"Set of the first 5 Fibonacci numbers:\", fibonacci_set)\n"
   ]
  },
  {
   "cell_type": "code",
   "execution_count": null,
   "id": "36f0a94a-6c92-43a2-8737-6027c9f148b8",
   "metadata": {},
   "outputs": [],
   "source": [
    "43. Remove duplicates from a list using sets."
   ]
  },
  {
   "cell_type": "code",
   "execution_count": 53,
   "id": "87b17285-ebaf-43bb-88fd-eb5e30537dd8",
   "metadata": {},
   "outputs": [
    {
     "name": "stdout",
     "output_type": "stream",
     "text": [
      "List with duplicates removed: [1, 2, 3, 4, 5, 6, 7, 8]\n"
     ]
    }
   ],
   "source": [
    "my_list = [1, 2, 3, 2, 4, 5, 1, 6, 7, 8, 5]\n",
    "unique_list = list(set(my_list))\n",
    "print(\"List with duplicates removed:\", unique_list)\n"
   ]
  },
  {
   "cell_type": "code",
   "execution_count": null,
   "id": "2484e788-57c8-4ed1-a120-0e0f0e602bd6",
   "metadata": {},
   "outputs": [],
   "source": [
    "44. Check if two sets have the same elements, regardless of their count."
   ]
  },
  {
   "cell_type": "code",
   "execution_count": 54,
   "id": "9da495a7-6333-4f09-bf16-a4c3269eee71",
   "metadata": {},
   "outputs": [
    {
     "name": "stdout",
     "output_type": "stream",
     "text": [
      "set1 and set2 have the same elements.\n",
      "set1 and set3 do not have the same elements.\n"
     ]
    }
   ],
   "source": [
    "set1 = {1, 2, 3, 4, 5}\n",
    "set2 = {5, 4, 3, 2, 1}\n",
    "set3 = {1, 2, 3}\n",
    "\n",
    "# Check if set1 and set2 have the same elements\n",
    "if set1.symmetric_difference(set2) == set():\n",
    "    print(\"set1 and set2 have the same elements.\")\n",
    "else:\n",
    "    print(\"set1 and set2 do not have the same elements.\")\n",
    "\n",
    "# Check if set1 and set3 have the same elements\n",
    "if set1.symmetric_difference(set3) == set():\n",
    "    print(\"set1 and set3 have the same elements.\")\n",
    "else:\n",
    "    print(\"set1 and set3 do not have the same elements.\")\n"
   ]
  },
  {
   "cell_type": "code",
   "execution_count": null,
   "id": "649b097e-725d-48a4-a1af-0817f7c97e86",
   "metadata": {},
   "outputs": [],
   "source": [
    "45. Create a set of the first `n` powers of 2."
   ]
  },
  {
   "cell_type": "code",
   "execution_count": 55,
   "id": "20e6e6aa-a0ed-49df-adc7-c33d32773bfa",
   "metadata": {},
   "outputs": [
    {
     "name": "stdout",
     "output_type": "stream",
     "text": [
      "Set of the first 5 powers of 2: {1, 2, 4, 8, 16}\n"
     ]
    }
   ],
   "source": [
    "n = 5\n",
    "powers_of_2_set = {2**i for i in range(n)}\n",
    "print(\"Set of the first\", n, \"powers of 2:\", powers_of_2_set)\n"
   ]
  },
  {
   "cell_type": "code",
   "execution_count": null,
   "id": "95782506-931d-48bb-9bf6-936fd79a8c0b",
   "metadata": {},
   "outputs": [],
   "source": [
    "46. Find the common elements between a set and a list."
   ]
  },
  {
   "cell_type": "code",
   "execution_count": 56,
   "id": "e6f335b8-0ea2-4d7f-95b0-029c26fe0957",
   "metadata": {},
   "outputs": [
    {
     "name": "stdout",
     "output_type": "stream",
     "text": [
      "Common elements between the set and the list: {3, 4, 5}\n"
     ]
    }
   ],
   "source": [
    "my_set = {1, 2, 3, 4, 5}\n",
    "my_list = [3, 4, 5, 6, 7]\n",
    "\n",
    "common_elements = my_set.intersection(my_list)\n",
    "# Alternatively: common_elements = my_set & set(my_list)\n",
    "\n",
    "print(\"Common elements between the set and the list:\", common_elements)\n"
   ]
  },
  {
   "cell_type": "code",
   "execution_count": null,
   "id": "4aa462ff-df83-4e4b-94b6-2fca5318415b",
   "metadata": {},
   "outputs": [],
   "source": [
    "47. Create a set of the first `n` triangular numbers."
   ]
  },
  {
   "cell_type": "code",
   "execution_count": 57,
   "id": "3e30faa5-9cb7-415f-baab-5c530ce1a15f",
   "metadata": {},
   "outputs": [
    {
     "name": "stdout",
     "output_type": "stream",
     "text": [
      "Set of the first 5 triangular numbers: {1, 3, 6, 10, 15}\n"
     ]
    }
   ],
   "source": [
    "n = 5\n",
    "triangular_numbers_set = {(i * (i + 1)) // 2 for i in range(1, n + 1)}\n",
    "print(\"Set of the first\", n, \"triangular numbers:\", triangular_numbers_set)\n"
   ]
  },
  {
   "cell_type": "code",
   "execution_count": null,
   "id": "570ec0de-940d-4a88-94f0-eeb28878e52e",
   "metadata": {},
   "outputs": [],
   "source": [
    "48. Check if a set contains another set as a subset."
   ]
  },
  {
   "cell_type": "code",
   "execution_count": 58,
   "id": "37cc0f78-1919-4c6d-b159-4fade33e409b",
   "metadata": {},
   "outputs": [
    {
     "name": "stdout",
     "output_type": "stream",
     "text": [
      "set2 is a subset of set1.\n",
      "set2 is a subset of set1.\n"
     ]
    }
   ],
   "source": [
    "set1 = {1, 2, 3, 4, 5, 6}\n",
    "set2 = {2, 3, 4}\n",
    "\n",
    "# Check if set2 is a subset of set1\n",
    "if set2.issubset(set1):\n",
    "    print(\"set2 is a subset of set1.\")\n",
    "else:\n",
    "    print(\"set2 is not a subset of set1.\")\n",
    "\n",
    "# Alternatively, you can use the <= operator\n",
    "if set2 <= set1:\n",
    "    print(\"set2 is a subset of set1.\")\n",
    "else:\n",
    "    print(\"set2 is not a subset of set1.\")\n"
   ]
  },
  {
   "cell_type": "code",
   "execution_count": null,
   "id": "37fd31b4-fd70-440a-838a-d4df60d4a736",
   "metadata": {},
   "outputs": [],
   "source": [
    "49. Create a set of alternating 1s and 0s of length `n`."
   ]
  },
  {
   "cell_type": "code",
   "execution_count": null,
   "id": "67ec11e2-b567-492b-8ccd-be7fcbd23929",
   "metadata": {},
   "outputs": [],
   "source": []
  },
  {
   "cell_type": "code",
   "execution_count": null,
   "id": "613af0e3-0b91-416b-a54c-65efa1cc2c11",
   "metadata": {},
   "outputs": [],
   "source": []
  }
 ],
 "metadata": {
  "kernelspec": {
   "display_name": "Python 3 (ipykernel)",
   "language": "python",
   "name": "python3"
  },
  "language_info": {
   "codemirror_mode": {
    "name": "ipython",
    "version": 3
   },
   "file_extension": ".py",
   "mimetype": "text/x-python",
   "name": "python",
   "nbconvert_exporter": "python",
   "pygments_lexer": "ipython3",
   "version": "3.10.8"
  }
 },
 "nbformat": 4,
 "nbformat_minor": 5
}
